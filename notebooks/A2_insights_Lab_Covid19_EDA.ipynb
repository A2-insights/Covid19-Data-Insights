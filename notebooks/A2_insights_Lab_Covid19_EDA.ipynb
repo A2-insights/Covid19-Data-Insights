{
  "nbformat": 4,
  "nbformat_minor": 0,
  "metadata": {
    "colab": {
      "name": "A2-insights_Lab_(Covid19_EDA).ipynb",
      "provenance": [],
      "collapsed_sections": [],
      "toc_visible": true
    },
    "kernelspec": {
      "name": "python3",
      "display_name": "Python 3"
    }
  },
  "cells": [
    {
      "cell_type": "markdown",
      "metadata": {
        "id": "ELNSDDVEG3is",
        "colab_type": "text"
      },
      "source": [
        "# **A2-insights Lab** *presents*\n",
        "\n",
        "Welcome to the COVID-19 informative analysis crafted using python and pandas and more modern technologies. \n",
        "\n",
        "\n",
        "---\n",
        "\n",
        "\n",
        "\n",
        "**API starter:**\n",
        ">Use this notebook to connect to the COVID-19 database for access to our datasources.\n",
        "\n",
        ">Use [these API's](https://ijvcpr9af1.execute-api.eu-west-1.amazonaws.com/api/) to access the data.\n",
        "\n",
        "---\n",
        "## **Disclaimer:**\n",
        "<br>\n",
        "<br>"
      ]
    },
    {
      "cell_type": "markdown",
      "metadata": {
        "id": "0veUG3I_1n3Y",
        "colab_type": "text"
      },
      "source": [
        "# **Package Installation**\n",
        "NB: This notebook was created using **Google Colab**\n"
      ]
    },
    {
      "cell_type": "code",
      "metadata": {
        "id": "x6t7AtUs10Fx",
        "colab_type": "code",
        "colab": {}
      },
      "source": [
        ""
      ],
      "execution_count": 0,
      "outputs": []
    },
    {
      "cell_type": "markdown",
      "metadata": {
        "id": "b7S_h8z9tPMm",
        "colab_type": "text"
      },
      "source": [
        "# **Imports**"
      ]
    },
    {
      "cell_type": "code",
      "metadata": {
        "id": "PSVpNzCCHB6z",
        "colab_type": "code",
        "colab": {}
      },
      "source": [
        "# Data manipulation \n",
        "import pandas as pd \n",
        "import requests\n",
        "\n",
        "#  Data Visualization\n",
        "import matplotlib.pyplot as plt\n",
        "import seaborn as sns\n",
        "%matplotlib inline\n",
        "\n",
        "# Extas\n",
        "import warnings\n",
        "\n",
        "# Disabling library Warnings\n",
        "warnings.filterwarnings('ignore')"
      ],
      "execution_count": 0,
      "outputs": []
    },
    {
      "cell_type": "markdown",
      "metadata": {
        "id": "7yWPk3efHktk",
        "colab_type": "text"
      },
      "source": [
        "# **Loading Data** \n",
        "\n",
        "## Build a dataframe using the following code:\n",
        "\n",
        "```url = \"INSERT API URL\"``` <br>\n",
        "```headers = {'x-api-key': \"INSERT API KEY HERE\"}```<br>\n",
        "```response = requests.request(\"GET\", url, headers=headers)```<br>\n",
        "```x = response.json()```<br>\n",
        "```df = pd.DataFrame(x)```\n",
        "\n",
        "## **Call the following function to read the data To a Dataframe**\n",
        "\n",
        "\n",
        "```\n",
        "load_covid19(url, API_KEY)\n",
        "```\n",
        "\n",
        "\n",
        "<br>\n",
        "<br>\n"
      ]
    },
    {
      "cell_type": "code",
      "metadata": {
        "id": "vHGuNUfwxp-p",
        "colab_type": "code",
        "colab": {}
      },
      "source": [
        "# CONSTANTS\n",
        "API_KEY = 'WVllUkRA01awNNgKxGg607vl5qIvuOAN3pW9HXmD'\n",
        "\n",
        "# API URLs\n",
        "url_CasesGlobalView = 'https://9gnht4xyvf.execute-api.eu-west-1.amazonaws.com/api/get_table/CasesGlobalView'\n",
        "url_CasesLocalView  = 'https://9gnht4xyvf.execute-api.eu-west-1.amazonaws.com/api/get_table/CasesLocalView'\n",
        "ulr_CounterMeasureView = 'https://9gnht4xyvf.execute-api.eu-west-1.amazonaws.com/api/get_table/CounterMeasureView'"
      ],
      "execution_count": 0,
      "outputs": []
    },
    {
      "cell_type": "code",
      "metadata": {
        "id": "nwl8G_nlpNUo",
        "colab_type": "code",
        "colab": {}
      },
      "source": [
        "def load_covid19(url, API_KEY = 'WVllUkRA01awNNgKxGg607vl5qIvuOAN3pW9HXmD' ):\n",
        "  \"\"\"load_covid19(url)\n",
        "\n",
        "  DESCRIPTION:\n",
        "        The function reads in an API URL for COVID-19 Data and returns a pandas DataFrame.\n",
        "\n",
        "  PARAMETERS:\n",
        "        url (string): API URL.\n",
        "\n",
        "  RETURNS:\n",
        "      (DataFrame): Data in a form of a pandas dataframe.\n",
        "  \n",
        "  \"\"\"\n",
        "\n",
        "  headers = {\n",
        "    'x-api-key': API_KEY\n",
        "    }\n",
        "  response = requests.request(\"GET\", url, headers=headers)\n",
        "  x = response.json()\n",
        "\n",
        "  return pd.DataFrame(x)"
      ],
      "execution_count": 0,
      "outputs": []
    },
    {
      "cell_type": "code",
      "metadata": {
        "id": "UPvsE8CLO8Y3",
        "colab_type": "code",
        "colab": {}
      },
      "source": [
        ""
      ],
      "execution_count": 0,
      "outputs": []
    },
    {
      "cell_type": "code",
      "metadata": {
        "id": "GFrweg2DIAaW",
        "colab_type": "code",
        "colab": {}
      },
      "source": [
        "# Reading Data to DataFrames\n",
        "global_view = load_covid19(url_CasesGlobalView)\n",
        "local_view = load_covid19(url_CasesLocalView)\n",
        "counterMeasure_view = load_covid19(ulr_CounterMeasureView)\n"
      ],
      "execution_count": 0,
      "outputs": []
    },
    {
      "cell_type": "markdown",
      "metadata": {
        "id": "fw4CJbfnuMar",
        "colab_type": "text"
      },
      "source": [
        "# **Quick Descriptive Analysis**\n",
        "\n",
        "\n",
        "\n"
      ]
    },
    {
      "cell_type": "markdown",
      "metadata": {
        "id": "N8yYTKOgv67m",
        "colab_type": "text"
      },
      "source": [
        "## **CasesGlobalView**"
      ]
    },
    {
      "cell_type": "code",
      "metadata": {
        "id": "XaDg69hNwPWx",
        "colab_type": "code",
        "outputId": "00830202-e1f4-4a78-ddb1-602ce620a5ec",
        "colab": {
          "base_uri": "https://localhost:8080/",
          "height": 299
        }
      },
      "source": [
        "# view 5 samples of the data\n",
        "global_view.sample(5)"
      ],
      "execution_count": 0,
      "outputs": [
        {
          "output_type": "execute_result",
          "data": {
            "text/html": [
              "<div>\n",
              "<style scoped>\n",
              "    .dataframe tbody tr th:only-of-type {\n",
              "        vertical-align: middle;\n",
              "    }\n",
              "\n",
              "    .dataframe tbody tr th {\n",
              "        vertical-align: top;\n",
              "    }\n",
              "\n",
              "    .dataframe thead th {\n",
              "        text-align: right;\n",
              "    }\n",
              "</style>\n",
              "<table border=\"1\" class=\"dataframe\">\n",
              "  <thead>\n",
              "    <tr style=\"text-align: right;\">\n",
              "      <th></th>\n",
              "      <th>date</th>\n",
              "      <th>country</th>\n",
              "      <th>lat</th>\n",
              "      <th>long</th>\n",
              "      <th>confirmed</th>\n",
              "      <th>deaths</th>\n",
              "      <th>recovered</th>\n",
              "      <th>active</th>\n",
              "      <th>confirmed_daily</th>\n",
              "      <th>deaths_daily</th>\n",
              "      <th>recovered_daily</th>\n",
              "      <th>daily_change_in_active_cases</th>\n",
              "      <th>active_dailiy_growth_rate</th>\n",
              "      <th>active_rolling_3_day_growth_rate</th>\n",
              "    </tr>\n",
              "  </thead>\n",
              "  <tbody>\n",
              "    <tr>\n",
              "      <th>5024</th>\n",
              "      <td>2020-03-25</td>\n",
              "      <td>Norway</td>\n",
              "      <td>60.4720</td>\n",
              "      <td>8.4689</td>\n",
              "      <td>3084</td>\n",
              "      <td>14</td>\n",
              "      <td>6</td>\n",
              "      <td>3064</td>\n",
              "      <td>221.0</td>\n",
              "      <td>2.0</td>\n",
              "      <td>0.0</td>\n",
              "      <td>219.0</td>\n",
              "      <td>0.076977</td>\n",
              "      <td>0.088311</td>\n",
              "    </tr>\n",
              "    <tr>\n",
              "      <th>3911</th>\n",
              "      <td>2020-03-05</td>\n",
              "      <td>Lebanon</td>\n",
              "      <td>33.8547</td>\n",
              "      <td>35.8623</td>\n",
              "      <td>16</td>\n",
              "      <td>0</td>\n",
              "      <td>1</td>\n",
              "      <td>15</td>\n",
              "      <td>3.0</td>\n",
              "      <td>0.0</td>\n",
              "      <td>0.0</td>\n",
              "      <td>3.0</td>\n",
              "      <td>0.250000</td>\n",
              "      <td>0.048856</td>\n",
              "    </tr>\n",
              "    <tr>\n",
              "      <th>3788</th>\n",
              "      <td>2020-03-22</td>\n",
              "      <td>Kuwait</td>\n",
              "      <td>29.5000</td>\n",
              "      <td>47.7500</td>\n",
              "      <td>188</td>\n",
              "      <td>0</td>\n",
              "      <td>27</td>\n",
              "      <td>161</td>\n",
              "      <td>12.0</td>\n",
              "      <td>0.0</td>\n",
              "      <td>0.0</td>\n",
              "      <td>12.0</td>\n",
              "      <td>0.080537</td>\n",
              "      <td>0.073893</td>\n",
              "    </tr>\n",
              "    <tr>\n",
              "      <th>2733</th>\n",
              "      <td>2020-04-05</td>\n",
              "      <td>Greece</td>\n",
              "      <td>39.0742</td>\n",
              "      <td>21.8243</td>\n",
              "      <td>1735</td>\n",
              "      <td>73</td>\n",
              "      <td>78</td>\n",
              "      <td>1584</td>\n",
              "      <td>62.0</td>\n",
              "      <td>5.0</td>\n",
              "      <td>0.0</td>\n",
              "      <td>57.0</td>\n",
              "      <td>0.037328</td>\n",
              "      <td>0.034681</td>\n",
              "    </tr>\n",
              "    <tr>\n",
              "      <th>2955</th>\n",
              "      <td>2020-03-29</td>\n",
              "      <td>Honduras</td>\n",
              "      <td>15.2000</td>\n",
              "      <td>-86.2419</td>\n",
              "      <td>110</td>\n",
              "      <td>3</td>\n",
              "      <td>3</td>\n",
              "      <td>104</td>\n",
              "      <td>15.0</td>\n",
              "      <td>2.0</td>\n",
              "      <td>0.0</td>\n",
              "      <td>13.0</td>\n",
              "      <td>0.142857</td>\n",
              "      <td>0.268102</td>\n",
              "    </tr>\n",
              "  </tbody>\n",
              "</table>\n",
              "</div>"
            ],
            "text/plain": [
              "            date  ... active_rolling_3_day_growth_rate\n",
              "5024  2020-03-25  ...                         0.088311\n",
              "3911  2020-03-05  ...                         0.048856\n",
              "3788  2020-03-22  ...                         0.073893\n",
              "2733  2020-04-05  ...                         0.034681\n",
              "2955  2020-03-29  ...                         0.268102\n",
              "\n",
              "[5 rows x 14 columns]"
            ]
          },
          "metadata": {
            "tags": []
          },
          "execution_count": 9
        }
      ]
    },
    {
      "cell_type": "code",
      "metadata": {
        "id": "Pe-E9CBsMSnA",
        "colab_type": "code",
        "outputId": "9cec5e6e-230d-400f-b52f-902e979dc692",
        "colab": {
          "base_uri": "https://localhost:8080/",
          "height": 252
        }
      },
      "source": [
        "# understanding global view columns\n",
        "global_cols = global_view.columns.to_list()\n",
        "global_cols"
      ],
      "execution_count": 0,
      "outputs": [
        {
          "output_type": "execute_result",
          "data": {
            "text/plain": [
              "['date',\n",
              " 'country',\n",
              " 'lat',\n",
              " 'long',\n",
              " 'confirmed',\n",
              " 'deaths',\n",
              " 'recovered',\n",
              " 'active',\n",
              " 'confirmed_daily',\n",
              " 'deaths_daily',\n",
              " 'recovered_daily',\n",
              " 'daily_change_in_active_cases',\n",
              " 'active_dailiy_growth_rate',\n",
              " 'active_rolling_3_day_growth_rate']"
            ]
          },
          "metadata": {
            "tags": []
          },
          "execution_count": 54
        }
      ]
    },
    {
      "cell_type": "code",
      "metadata": {
        "id": "9anmZwkEyzKf",
        "colab_type": "code",
        "outputId": "35bae4e7-1574-4017-d968-d0fbfb36fe61",
        "colab": {
          "base_uri": "https://localhost:8080/",
          "height": 370
        }
      },
      "source": [
        "# data types\n",
        "global_view.info()"
      ],
      "execution_count": 0,
      "outputs": [
        {
          "output_type": "stream",
          "text": [
            "<class 'pandas.core.frame.DataFrame'>\n",
            "RangeIndex: 7423 entries, 0 to 7422\n",
            "Data columns (total 14 columns):\n",
            " #   Column                            Non-Null Count  Dtype  \n",
            "---  ------                            --------------  -----  \n",
            " 0   date                              7423 non-null   object \n",
            " 1   country                           7423 non-null   object \n",
            " 2   lat                               7423 non-null   float64\n",
            " 3   long                              7423 non-null   float64\n",
            " 4   confirmed                         7423 non-null   int64  \n",
            " 5   deaths                            7423 non-null   int64  \n",
            " 6   recovered                         7423 non-null   int64  \n",
            " 7   active                            7423 non-null   int64  \n",
            " 8   confirmed_daily                   7238 non-null   float64\n",
            " 9   deaths_daily                      7238 non-null   float64\n",
            " 10  recovered_daily                   7238 non-null   float64\n",
            " 11  daily_change_in_active_cases      7238 non-null   float64\n",
            " 12  active_dailiy_growth_rate         7038 non-null   float64\n",
            " 13  active_rolling_3_day_growth_rate  6668 non-null   float64\n",
            "dtypes: float64(8), int64(4), object(2)\n",
            "memory usage: 812.0+ KB\n"
          ],
          "name": "stdout"
        }
      ]
    },
    {
      "cell_type": "code",
      "metadata": {
        "id": "-OiXmysZ6Mcb",
        "colab_type": "code",
        "outputId": "03a54a98-686d-4fca-b2bf-25d36a739965",
        "colab": {
          "base_uri": "https://localhost:8080/",
          "height": 269
        }
      },
      "source": [
        "# get count for null values\n",
        "global_view.isnull().sum()"
      ],
      "execution_count": 0,
      "outputs": [
        {
          "output_type": "execute_result",
          "data": {
            "text/plain": [
              "date                                  0\n",
              "country                               0\n",
              "lat                                   0\n",
              "long                                  0\n",
              "confirmed                             0\n",
              "deaths                                0\n",
              "recovered                             0\n",
              "active                                0\n",
              "confirmed_daily                     185\n",
              "deaths_daily                        185\n",
              "recovered_daily                     185\n",
              "daily_change_in_active_cases        185\n",
              "active_dailiy_growth_rate           385\n",
              "active_rolling_3_day_growth_rate    755\n",
              "dtype: int64"
            ]
          },
          "metadata": {
            "tags": []
          },
          "execution_count": 30
        }
      ]
    },
    {
      "cell_type": "markdown",
      "metadata": {
        "id": "J1CvXFbKlEMc",
        "colab_type": "text"
      },
      "source": [
        "**Notes 2** Missing Data:\n",
        "> We need to understand the Nature of he missing values before we can drop, impute the missing values. \n",
        "\n",
        "> NB: Imputaion / droping records with missing values may yeild misleading results and may affect the interpretation of the pandemic outbreak. \n",
        "\n",
        "The following columns have more than **755** missing values out of **7423** observations :\n",
        "* confirmed_daily                    \n",
        "* deaths_daily                   \n",
        "* recovered_daily                 \n",
        "* daily_change_in_active_cases     \n",
        "* active_dailiy_growth_rate       \n",
        "* active_rolling_3_day_growth_rate"
      ]
    },
    {
      "cell_type": "code",
      "metadata": {
        "id": "Q-xY-hpcKI4_",
        "colab_type": "code",
        "outputId": "4742d011-0c04-4e9e-96df-a18eb24b5480",
        "colab": {
          "base_uri": "https://localhost:8080/",
          "height": 304
        }
      },
      "source": [
        "# Eliminate the Logitude and latitude the view the summary statistics\n",
        "pd.set_option('precision', 3)\n",
        "global_view.drop(['lat','long'], axis=1).describe()"
      ],
      "execution_count": 0,
      "outputs": [
        {
          "output_type": "execute_result",
          "data": {
            "text/html": [
              "<div>\n",
              "<style scoped>\n",
              "    .dataframe tbody tr th:only-of-type {\n",
              "        vertical-align: middle;\n",
              "    }\n",
              "\n",
              "    .dataframe tbody tr th {\n",
              "        vertical-align: top;\n",
              "    }\n",
              "\n",
              "    .dataframe thead th {\n",
              "        text-align: right;\n",
              "    }\n",
              "</style>\n",
              "<table border=\"1\" class=\"dataframe\">\n",
              "  <thead>\n",
              "    <tr style=\"text-align: right;\">\n",
              "      <th></th>\n",
              "      <th>confirmed</th>\n",
              "      <th>deaths</th>\n",
              "      <th>recovered</th>\n",
              "      <th>active</th>\n",
              "      <th>confirmed_daily</th>\n",
              "      <th>deaths_daily</th>\n",
              "      <th>recovered_daily</th>\n",
              "      <th>daily_change_in_active_cases</th>\n",
              "      <th>active_dailiy_growth_rate</th>\n",
              "      <th>active_rolling_3_day_growth_rate</th>\n",
              "    </tr>\n",
              "  </thead>\n",
              "  <tbody>\n",
              "    <tr>\n",
              "      <th>count</th>\n",
              "      <td>7423.000</td>\n",
              "      <td>7423.000</td>\n",
              "      <td>7423.000</td>\n",
              "      <td>7423.000</td>\n",
              "      <td>7238.000</td>\n",
              "      <td>7238.000</td>\n",
              "      <td>7238.000</td>\n",
              "      <td>7238.000</td>\n",
              "      <td>7038.000</td>\n",
              "      <td>6668.000</td>\n",
              "    </tr>\n",
              "    <tr>\n",
              "      <th>mean</th>\n",
              "      <td>3678.275</td>\n",
              "      <td>187.512</td>\n",
              "      <td>900.210</td>\n",
              "      <td>2590.554</td>\n",
              "      <td>255.004</td>\n",
              "      <td>15.760</td>\n",
              "      <td>58.261</td>\n",
              "      <td>180.983</td>\n",
              "      <td>0.208</td>\n",
              "      <td>0.159</td>\n",
              "    </tr>\n",
              "    <tr>\n",
              "      <th>std</th>\n",
              "      <td>21323.292</td>\n",
              "      <td>1260.387</td>\n",
              "      <td>6221.328</td>\n",
              "      <td>17258.912</td>\n",
              "      <td>1613.128</td>\n",
              "      <td>103.044</td>\n",
              "      <td>361.341</td>\n",
              "      <td>1391.274</td>\n",
              "      <td>0.761</td>\n",
              "      <td>0.249</td>\n",
              "    </tr>\n",
              "    <tr>\n",
              "      <th>min</th>\n",
              "      <td>1.000</td>\n",
              "      <td>0.000</td>\n",
              "      <td>0.000</td>\n",
              "      <td>0.000</td>\n",
              "      <td>-15.000</td>\n",
              "      <td>-31.000</td>\n",
              "      <td>-268.000</td>\n",
              "      <td>-4919.000</td>\n",
              "      <td>-1.000</td>\n",
              "      <td>-1.000</td>\n",
              "    </tr>\n",
              "    <tr>\n",
              "      <th>25%</th>\n",
              "      <td>7.000</td>\n",
              "      <td>0.000</td>\n",
              "      <td>0.000</td>\n",
              "      <td>6.000</td>\n",
              "      <td>0.000</td>\n",
              "      <td>0.000</td>\n",
              "      <td>0.000</td>\n",
              "      <td>0.000</td>\n",
              "      <td>0.000</td>\n",
              "      <td>0.019</td>\n",
              "    </tr>\n",
              "    <tr>\n",
              "      <th>50%</th>\n",
              "      <td>48.000</td>\n",
              "      <td>0.000</td>\n",
              "      <td>2.000</td>\n",
              "      <td>41.000</td>\n",
              "      <td>5.000</td>\n",
              "      <td>0.000</td>\n",
              "      <td>0.000</td>\n",
              "      <td>3.000</td>\n",
              "      <td>0.060</td>\n",
              "      <td>0.101</td>\n",
              "    </tr>\n",
              "    <tr>\n",
              "      <th>75%</th>\n",
              "      <td>482.000</td>\n",
              "      <td>7.000</td>\n",
              "      <td>27.000</td>\n",
              "      <td>411.500</td>\n",
              "      <td>46.000</td>\n",
              "      <td>1.000</td>\n",
              "      <td>2.000</td>\n",
              "      <td>32.000</td>\n",
              "      <td>0.196</td>\n",
              "      <td>0.229</td>\n",
              "    </tr>\n",
              "    <tr>\n",
              "      <th>max</th>\n",
              "      <td>555313.000</td>\n",
              "      <td>22020.000</td>\n",
              "      <td>77956.000</td>\n",
              "      <td>500305.000</td>\n",
              "      <td>35098.000</td>\n",
              "      <td>2108.000</td>\n",
              "      <td>10219.000</td>\n",
              "      <td>29957.000</td>\n",
              "      <td>37.000</td>\n",
              "      <td>2.733</td>\n",
              "    </tr>\n",
              "  </tbody>\n",
              "</table>\n",
              "</div>"
            ],
            "text/plain": [
              "        confirmed  ...  active_rolling_3_day_growth_rate\n",
              "count    7423.000  ...                          6668.000\n",
              "mean     3678.275  ...                             0.159\n",
              "std     21323.292  ...                             0.249\n",
              "min         1.000  ...                            -1.000\n",
              "25%         7.000  ...                             0.019\n",
              "50%        48.000  ...                             0.101\n",
              "75%       482.000  ...                             0.229\n",
              "max    555313.000  ...                             2.733\n",
              "\n",
              "[8 rows x 10 columns]"
            ]
          },
          "metadata": {
            "tags": []
          },
          "execution_count": 62
        }
      ]
    },
    {
      "cell_type": "markdown",
      "metadata": {
        "id": "Z_kP6dniVQ6c",
        "colab_type": "text"
      },
      "source": [
        "**Notes 3**\n",
        "> Understanding the **mean**, **std** and **MAx** for the following features/ Variables:\n",
        "- **confirmed**\n",
        "    - mean= 3678.275 , std= 21323.291 **and** max= 555313.000\n",
        "- **deaths** \n",
        "    - Mean= 187.512 **and** std= 1260.387 **and** max= 22020.000\t\n",
        "- **recovered**\n",
        "    - Mean= 900.210 **and** std= 6221.328 **and** max= 77956.000\n",
        "\n",
        "> **Ideal Scenario**\n",
        "* The **std** and **mean** for **confirmed** and **deaths** are expected  to have a very high variation, this will mean that the virus **preading-rate** and **death-rate** are droping(flaterning the  curve).\n",
        "* The **std** and **mean** for **Recovered** are expected to have a less to no variation and this will mean that more people are recovering at a short period of time.\n",
        "\n",
        "[health statistics]('')"
      ]
    },
    {
      "cell_type": "markdown",
      "metadata": {
        "id": "RYnCI6NGwCcK",
        "colab_type": "text"
      },
      "source": [
        "## **CasesLocalView**"
      ]
    },
    {
      "cell_type": "code",
      "metadata": {
        "id": "zd6Bkz35wQUD",
        "colab_type": "code",
        "outputId": "b2ce37f1-fd1c-4460-e4ab-3ebce534106c",
        "colab": {
          "base_uri": "https://localhost:8080/",
          "height": 195
        }
      },
      "source": [
        "# view 5 samples of the data\n",
        "local_view.sample(5)"
      ],
      "execution_count": 0,
      "outputs": [
        {
          "output_type": "execute_result",
          "data": {
            "text/html": [
              "<div>\n",
              "<style scoped>\n",
              "    .dataframe tbody tr th:only-of-type {\n",
              "        vertical-align: middle;\n",
              "    }\n",
              "\n",
              "    .dataframe tbody tr th {\n",
              "        vertical-align: top;\n",
              "    }\n",
              "\n",
              "    .dataframe thead th {\n",
              "        text-align: right;\n",
              "    }\n",
              "</style>\n",
              "<table border=\"1\" class=\"dataframe\">\n",
              "  <thead>\n",
              "    <tr style=\"text-align: right;\">\n",
              "      <th></th>\n",
              "      <th>id</th>\n",
              "      <th>country_id</th>\n",
              "      <th>location</th>\n",
              "      <th>location_level</th>\n",
              "      <th>date</th>\n",
              "      <th>confirmed</th>\n",
              "    </tr>\n",
              "  </thead>\n",
              "  <tbody>\n",
              "    <tr>\n",
              "      <th>338</th>\n",
              "      <td>10</td>\n",
              "      <td>153</td>\n",
              "      <td>UNKNOWN</td>\n",
              "      <td>Provincial</td>\n",
              "      <td>2020-04-01</td>\n",
              "      <td>90</td>\n",
              "    </tr>\n",
              "    <tr>\n",
              "      <th>105</th>\n",
              "      <td>3</td>\n",
              "      <td>153</td>\n",
              "      <td>GP</td>\n",
              "      <td>Provincial</td>\n",
              "      <td>2020-03-30</td>\n",
              "      <td>618</td>\n",
              "    </tr>\n",
              "    <tr>\n",
              "      <th>241</th>\n",
              "      <td>7</td>\n",
              "      <td>153</td>\n",
              "      <td>NC</td>\n",
              "      <td>Provincial</td>\n",
              "      <td>2020-03-26</td>\n",
              "      <td>2</td>\n",
              "    </tr>\n",
              "    <tr>\n",
              "      <th>67</th>\n",
              "      <td>2</td>\n",
              "      <td>153</td>\n",
              "      <td>FS</td>\n",
              "      <td>Provincial</td>\n",
              "      <td>2020-03-22</td>\n",
              "      <td>9</td>\n",
              "    </tr>\n",
              "    <tr>\n",
              "      <th>323</th>\n",
              "      <td>9</td>\n",
              "      <td>153</td>\n",
              "      <td>WC</td>\n",
              "      <td>Provincial</td>\n",
              "      <td>2020-04-09</td>\n",
              "      <td>515</td>\n",
              "    </tr>\n",
              "  </tbody>\n",
              "</table>\n",
              "</div>"
            ],
            "text/plain": [
              "     id  country_id location location_level        date  confirmed\n",
              "338  10         153  UNKNOWN     Provincial  2020-04-01         90\n",
              "105   3         153       GP     Provincial  2020-03-30        618\n",
              "241   7         153       NC     Provincial  2020-03-26          2\n",
              "67    2         153       FS     Provincial  2020-03-22          9\n",
              "323   9         153       WC     Provincial  2020-04-09        515"
            ]
          },
          "metadata": {
            "tags": []
          },
          "execution_count": 10
        }
      ]
    },
    {
      "cell_type": "code",
      "metadata": {
        "id": "4pW-Km8W4rs6",
        "colab_type": "code",
        "outputId": "39da5b04-13b7-4c66-9bf8-9af5188f5774",
        "colab": {
          "base_uri": "https://localhost:8080/",
          "height": 235
        }
      },
      "source": [
        "# data types\n",
        "local_view.info()"
      ],
      "execution_count": 0,
      "outputs": [
        {
          "output_type": "stream",
          "text": [
            "<class 'pandas.core.frame.DataFrame'>\n",
            "RangeIndex: 370 entries, 0 to 369\n",
            "Data columns (total 6 columns):\n",
            " #   Column          Non-Null Count  Dtype \n",
            "---  ------          --------------  ----- \n",
            " 0   id              370 non-null    int64 \n",
            " 1   country_id      370 non-null    int64 \n",
            " 2   location        370 non-null    object\n",
            " 3   location_level  370 non-null    object\n",
            " 4   date            370 non-null    object\n",
            " 5   confirmed       370 non-null    int64 \n",
            "dtypes: int64(3), object(3)\n",
            "memory usage: 17.5+ KB\n"
          ],
          "name": "stdout"
        }
      ]
    },
    {
      "cell_type": "code",
      "metadata": {
        "id": "dVBvTyYI8t2i",
        "colab_type": "code",
        "outputId": "a8251d12-91d0-4b5e-bd35-361ac7bf2ab9",
        "colab": {
          "base_uri": "https://localhost:8080/",
          "height": 134
        }
      },
      "source": [
        "# get count for Missing Data\n",
        "local_view.isnull().sum()"
      ],
      "execution_count": 0,
      "outputs": [
        {
          "output_type": "execute_result",
          "data": {
            "text/plain": [
              "id                0\n",
              "country_id        0\n",
              "location          0\n",
              "location_level    0\n",
              "date              0\n",
              "confirmed         0\n",
              "dtype: int64"
            ]
          },
          "metadata": {
            "tags": []
          },
          "execution_count": 27
        }
      ]
    },
    {
      "cell_type": "code",
      "metadata": {
        "id": "k7dFLlEC5rAT",
        "colab_type": "code",
        "outputId": "5d1db095-e964-4e30-9d9f-9ce60acfd932",
        "colab": {
          "base_uri": "https://localhost:8080/",
          "height": 202
        }
      },
      "source": [
        "local_view.location.value_counts()"
      ],
      "execution_count": 0,
      "outputs": [
        {
          "output_type": "execute_result",
          "data": {
            "text/plain": [
              "MP         37\n",
              "WC         37\n",
              "FS         37\n",
              "UNKNOWN    37\n",
              "NW         37\n",
              "KZN        37\n",
              "EC         37\n",
              "NC         37\n",
              "GP         37\n",
              "LP         37\n",
              "Name: location, dtype: int64"
            ]
          },
          "metadata": {
            "tags": []
          },
          "execution_count": 16
        }
      ]
    },
    {
      "cell_type": "markdown",
      "metadata": {
        "id": "sQ1OqR9UwJ7g",
        "colab_type": "text"
      },
      "source": [
        "## **CounterMeasureView**"
      ]
    },
    {
      "cell_type": "code",
      "metadata": {
        "id": "_3KanPi0wQ-9",
        "colab_type": "code",
        "colab": {}
      },
      "source": [
        ""
      ],
      "execution_count": 0,
      "outputs": []
    },
    {
      "cell_type": "markdown",
      "metadata": {
        "id": "DcvRQ8ksuXT9",
        "colab_type": "text"
      },
      "source": [
        "# **Data Cleanig**\n",
        "\n",
        "\n",
        "*   Set the DATATYPES to reduce memory usage\n",
        "*   Create pipeline To clean the Data\n",
        "*   Pass all the data Stream through the pipeline\n",
        "\n"
      ]
    },
    {
      "cell_type": "code",
      "metadata": {
        "id": "ggip4p8HugIi",
        "colab_type": "code",
        "colab": {}
      },
      "source": [
        ""
      ],
      "execution_count": 0,
      "outputs": []
    },
    {
      "cell_type": "markdown",
      "metadata": {
        "id": "Y62bFB7Fus3i",
        "colab_type": "text"
      },
      "source": [
        "# **Visualizations**"
      ]
    },
    {
      "cell_type": "markdown",
      "metadata": {
        "id": "vBsFo8Kphi2Y",
        "colab_type": "text"
      },
      "source": [
        "# **Credits & Sources**\n",
        "\n",
        "The \n",
        "---"
      ]
    }
  ]
}