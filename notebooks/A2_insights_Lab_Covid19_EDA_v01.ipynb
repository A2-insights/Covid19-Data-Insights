{
 "cells": [
  {
   "cell_type": "markdown",
   "metadata": {
    "colab_type": "text",
    "id": "r4FDneCnQ6Sw"
   },
   "source": [
    "**NB:** This notebook was created using **Google Colab** \n",
    "\n",
    "[![Open In Colab](https://colab.research.google.com/assets/colab-badge.svg)](https://colab.research.google.com/github/A2-insights/Covid19-Data-Insights/blob/master/notebooks/A2_insights_Lab_Covid19_EDA.ipynb)\n",
    "\n",
    "\n"
   ]
  },
  {
   "cell_type": "markdown",
   "metadata": {
    "colab_type": "text",
    "id": "ELNSDDVEG3is"
   },
   "source": [
    "# **$A^{2}$ Insights Lab** *presents*\n",
    "\n",
    "The COVID-19 informative analysis crafted using python, pandas and other modern technologies. \n",
    "\n",
    "---\n",
    "## **Disclaimer**\n",
    "\n",
    "The information contained in this Notebook is for **Educational purposes only**. The Data Analysis and code is provided by **$A^{2}$ Insights Lab**, Conclusions or point of views made from this notebook should be interpreted as Opinoins and not as health professional advice. **Any reliance you place on such information is therefore strictly at your own risk.**\n",
    "\n",
    "**We Do not Claim** ownership nor correctness of the data used, therefore \n",
    "In no event will we be liable for any violation of the government Regulations or damage including without limitation, indirect or consequential loss or damage whatsoever arising from loss of data or misleading information, or in connection with, the use of this information.\n",
    "<br>"
   ]
  },
  {
   "cell_type": "markdown",
   "metadata": {
    "colab_type": "text",
    "id": "b7S_h8z9tPMm"
   },
   "source": [
    "# **Imports**"
   ]
  },
  {
   "cell_type": "code",
   "execution_count": 1,
   "metadata": {
    "colab": {},
    "colab_type": "code",
    "id": "PSVpNzCCHB6z"
   },
   "outputs": [],
   "source": [
    "# Data manipulation \n",
    "import pandas as pd \n",
    "import numpy as np\n",
    "import requests\n",
    "\n",
    "#  Data Visualization\n",
    "import matplotlib.pyplot as plt\n",
    "import seaborn as sns\n",
    "%matplotlib inline\n",
    "\n",
    "# Extas\n",
    "import warnings\n",
    "\n",
    "# Disabling library Warnings\n",
    "warnings.filterwarnings('ignore')\n",
    "\n",
    "# Out Put Settings, precision\n",
    "pd.set_option('precision', 3)"
   ]
  },
  {
   "cell_type": "markdown",
   "metadata": {
    "colab_type": "text",
    "id": "7yWPk3efHktk"
   },
   "source": [
    "# **Loading Data** \n",
    "\n",
    "\n",
    "---\n",
    "\n",
    "**API starter:**\n",
    ">Use this notebook to connect to the COVID-19 database for access to our datasources.\n",
    "\n",
    ">Use [these API's](https://ijvcpr9af1.execute-api.eu-west-1.amazonaws.com/api/) to access the data.\n",
    "---\n",
    "## Build a dataframe using the following code:\n",
    "\n",
    "```url = \"INSERT API URL\"``` <br>\n",
    "```headers = {'x-api-key': \"INSERT API KEY HERE\"}```<br>\n",
    "```response = requests.request(\"GET\", url, headers=headers)```<br>\n",
    "```x = response.json()```<br>\n",
    "```df = pd.DataFrame(x)```\n",
    "\n",
    "## **Call the following function to read the data To a Dataframe**\n",
    "\n",
    "\n",
    "```\n",
    "load_covid19(url, API_KEY)\n",
    "```\n",
    "\n",
    "\n",
    "<br>\n",
    "<br>\n"
   ]
  },
  {
   "cell_type": "markdown",
   "metadata": {
    "colab_type": "text",
    "id": "pO2dejjfN_iv"
   },
   "source": [
    "## CONSTANTS"
   ]
  },
  {
   "cell_type": "code",
   "execution_count": 2,
   "metadata": {
    "colab": {},
    "colab_type": "code",
    "id": "vHGuNUfwxp-p"
   },
   "outputs": [],
   "source": [
    "# CONSTANTS\n",
    "API_KEY = 'WVllUkRA01awNNgKxGg607vl5qIvuOAN3pW9HXmD'\n",
    "\n",
    "# External Data Sources URLs\n",
    "SYMPTOMS_URL = 'https://en.wikipedia.org/wiki/Coronavirus'\n",
    "\n",
    "# API URLs\n",
    "url_CasesGlobalView = 'https://9gnht4xyvf.execute-api.eu-west-1.amazonaws.com/api/get_table/CasesGlobalView'\n",
    "url_CasesLocalView  = 'https://9gnht4xyvf.execute-api.eu-west-1.amazonaws.com/api/get_table/CasesLocalView'\n",
    "ulr_CounterMeasureView = 'https://9gnht4xyvf.execute-api.eu-west-1.amazonaws.com/api/get_table/CounterMeasureView'"
   ]
  },
  {
   "cell_type": "markdown",
   "metadata": {
    "colab_type": "text",
    "id": "CHYIQesLOKcG"
   },
   "source": [
    "## **GATHER EXTERNAL DATA**\n",
    "---\n",
    "\n",
    "Functions to gather data from other sources[link text](https://)\n"
   ]
  },
  {
   "cell_type": "code",
   "execution_count": 3,
   "metadata": {
    "colab": {},
    "colab_type": "code",
    "id": "xykWSh3cO2aI"
   },
   "outputs": [],
   "source": [
    "def scrape_covid19_symptoms(url):\n",
    "    \"\"\"scrape_covid19_symptoms(url)\n",
    "    \n",
    "    Scrapes covid 19 symptoms from wikipedia coronavirus pages\n",
    "    \n",
    "    PARAMETERS: \n",
    "        url (string): wikipedia coronavirus url page\n",
    "    \"\"\"\n",
    "\n",
    "    # get all tables and extract covid 19 symptoms table\n",
    "    df = pd.read_html(url, header=None)\n",
    "    df = df[1][11:17].loc[: , ['Unnamed: 0', 'SARS-CoV-2'] ].reset_index().drop('index', axis=1)\n",
    "    df.rename(columns={'Unnamed: 0': 'symptoms', 'SARS-CoV-2': 'covid19_percentage'}, inplace= True)\n",
    "    \n",
    "    return df"
   ]
  },
  {
   "cell_type": "code",
   "execution_count": 4,
   "metadata": {
    "colab": {},
    "colab_type": "code",
    "id": "nwl8G_nlpNUo"
   },
   "outputs": [],
   "source": [
    "def load_covid19(url, API_KEY = 'WVllUkRA01awNNgKxGg607vl5qIvuOAN3pW9HXmD' ):\n",
    "  \"\"\"load_covid19(url)\n",
    "\n",
    "  DESCRIPTION:\n",
    "        The function reads in an API URL for COVID-19 Data and returns a pandas DataFrame.\n",
    "\n",
    "  PARAMETERS:\n",
    "        url (string): API URL.\n",
    "\n",
    "  RETURNS:\n",
    "      (DataFrame): Data in a form of a pandas dataframe.\n",
    "  \n",
    "  \"\"\"\n",
    "\n",
    "  headers = {\n",
    "    'x-api-key': API_KEY\n",
    "    }\n",
    "  response = requests.request(\"GET\", url, headers=headers)\n",
    "  x = response.json()\n",
    "\n",
    "  return pd.DataFrame(x)"
   ]
  },
  {
   "cell_type": "markdown",
   "metadata": {
    "colab_type": "text",
    "id": "E_IRJbxKOdW1"
   },
   "source": [
    "## **Load Data to DataFrames**\n",
    "---\n",
    "Calling functions to lead data"
   ]
  },
  {
   "cell_type": "code",
   "execution_count": 5,
   "metadata": {
    "colab": {},
    "colab_type": "code",
    "id": "GFrweg2DIAaW"
   },
   "outputs": [],
   "source": [
    "# Reading Data to DataFrames\n",
    "global_view = load_covid19(url_CasesGlobalView)\n",
    "local_view = load_covid19(url_CasesLocalView)\n",
    "counterMeasure_view = load_covid19(ulr_CounterMeasureView)\n"
   ]
  },
  {
   "cell_type": "code",
   "execution_count": 6,
   "metadata": {
    "colab": {},
    "colab_type": "code",
    "id": "Yd0Wjb6BQmmO"
   },
   "outputs": [],
   "source": [
    "# loading covid 19 symptoms dataframe\n",
    "symptoms_df = scrape_covid19_symptoms(SYMPTOMS_URL)"
   ]
  },
  {
   "cell_type": "markdown",
   "metadata": {
    "colab_type": "text",
    "id": "fw4CJbfnuMar"
   },
   "source": [
    "# **Domain Knowledge & Few Data Checks**\n",
    " *Quick Descriptive Analysis, Data Values & Data Types*\n",
    "\n",
    "---\n",
    "Lets get to understand the **Features** and **Categorical** values.\n",
    "- The **cardinality of Categorical Features** might not change as the data increases.\n",
    "- **investigate Categorical Features :**\n",
    "  - country\n",
    "  - province/state/region\n",
    "  - measures\n",
    "  - and more if any\n",
    "---\n",
    "- **investigate the Data type per Feature:**\n",
    "  - **Date** (format)\n",
    "  - **floats** stored as **objects** or vice versa\n",
    "  - **Down cast data types** to **pandas data types** which **reduce memory usage**.\n",
    "---\n",
    "- **Investigate Feature Values:**\n",
    "\n",
    "  - **Missing Data values**\n",
    "    - missing at Random\n",
    "    - missing by aggregation\n",
    "    - indicated as missing but the actual value is Zero.\n",
    " - **non-atomic Features & format:**\n",
    "    - Create a new Feature\n",
    "    - Remove part of the data\n",
    "    - Use **iso_** features to correct cuntries.\n",
    "--- \n"
   ]
  },
  {
   "cell_type": "markdown",
   "metadata": {
    "colab_type": "text",
    "id": "N8yYTKOgv67m"
   },
   "source": [
    "## **CasesGlobalView**"
   ]
  },
  {
   "cell_type": "code",
   "execution_count": 7,
   "metadata": {
    "colab": {
     "base_uri": "https://localhost:8080/",
     "height": 50
    },
    "colab_type": "code",
    "executionInfo": {
     "elapsed": 1733,
     "status": "ok",
     "timestamp": 1587397829068,
     "user": {
      "displayName": "Allie Ubisse",
      "photoUrl": "https://lh3.googleusercontent.com/a-/AOh14GhmPb6uKQQcy033IYMuFkWGD0Ez0bxUujGYRtGj=s64",
      "userId": "15335281703903161970"
     },
     "user_tz": -120
    },
    "id": "fdCHrkFJhIKL",
    "outputId": "386c01f6-a036-4406-ee50-bd23a291259b"
   },
   "outputs": [
    {
     "name": "stdout",
     "output_type": "stream",
     "text": [
      "The global  Instances are : 8903\n",
      "The global  Features are  : 14\n"
     ]
    }
   ],
   "source": [
    "# Dimension of the global_view data\n",
    "print(f'The global  Instances are : {global_view.shape[0]}')\n",
    "print(f'The global  Features are  : {global_view.shape[1]}')"
   ]
  },
  {
   "cell_type": "code",
   "execution_count": 8,
   "metadata": {
    "colab": {
     "base_uri": "https://localhost:8080/",
     "height": 299
    },
    "colab_type": "code",
    "executionInfo": {
     "elapsed": 1696,
     "status": "ok",
     "timestamp": 1587289306417,
     "user": {
      "displayName": "Allie Ubisse",
      "photoUrl": "https://lh3.googleusercontent.com/a-/AOh14GhmPb6uKQQcy033IYMuFkWGD0Ez0bxUujGYRtGj=s64",
      "userId": "15335281703903161970"
     },
     "user_tz": -120
    },
    "id": "XaDg69hNwPWx",
    "outputId": "c3346b78-53a2-462d-bd80-15ea71d69967"
   },
   "outputs": [
    {
     "data": {
      "text/html": [
       "<div>\n",
       "<style scoped>\n",
       "    .dataframe tbody tr th:only-of-type {\n",
       "        vertical-align: middle;\n",
       "    }\n",
       "\n",
       "    .dataframe tbody tr th {\n",
       "        vertical-align: top;\n",
       "    }\n",
       "\n",
       "    .dataframe thead th {\n",
       "        text-align: right;\n",
       "    }\n",
       "</style>\n",
       "<table border=\"1\" class=\"dataframe\">\n",
       "  <thead>\n",
       "    <tr style=\"text-align: right;\">\n",
       "      <th></th>\n",
       "      <th>date</th>\n",
       "      <th>country</th>\n",
       "      <th>lat</th>\n",
       "      <th>long</th>\n",
       "      <th>confirmed</th>\n",
       "      <th>deaths</th>\n",
       "      <th>recovered</th>\n",
       "      <th>active</th>\n",
       "      <th>confirmed_daily</th>\n",
       "      <th>deaths_daily</th>\n",
       "      <th>recovered_daily</th>\n",
       "      <th>daily_change_in_active_cases</th>\n",
       "      <th>active_dailiy_growth_rate</th>\n",
       "      <th>active_rolling_3_day_growth_rate</th>\n",
       "    </tr>\n",
       "  </thead>\n",
       "  <tbody>\n",
       "    <tr>\n",
       "      <td>5074</td>\n",
       "      <td>2020-04-14</td>\n",
       "      <td>Malaysia</td>\n",
       "      <td>2.500</td>\n",
       "      <td>112.500</td>\n",
       "      <td>4987</td>\n",
       "      <td>82</td>\n",
       "      <td>2478</td>\n",
       "      <td>2427</td>\n",
       "      <td>170.0</td>\n",
       "      <td>5.0</td>\n",
       "      <td>202.0</td>\n",
       "      <td>-37.0</td>\n",
       "      <td>-0.015</td>\n",
       "      <td>-0.005</td>\n",
       "    </tr>\n",
       "    <tr>\n",
       "      <td>1645</td>\n",
       "      <td>2020-03-06</td>\n",
       "      <td>Chile</td>\n",
       "      <td>-35.675</td>\n",
       "      <td>-71.543</td>\n",
       "      <td>4</td>\n",
       "      <td>0</td>\n",
       "      <td>0</td>\n",
       "      <td>4</td>\n",
       "      <td>0.0</td>\n",
       "      <td>0.0</td>\n",
       "      <td>0.0</td>\n",
       "      <td>0.0</td>\n",
       "      <td>0.000</td>\n",
       "      <td>0.587</td>\n",
       "    </tr>\n",
       "    <tr>\n",
       "      <td>3755</td>\n",
       "      <td>2020-04-15</td>\n",
       "      <td>India</td>\n",
       "      <td>21.000</td>\n",
       "      <td>78.000</td>\n",
       "      <td>12322</td>\n",
       "      <td>405</td>\n",
       "      <td>1432</td>\n",
       "      <td>10485</td>\n",
       "      <td>835.0</td>\n",
       "      <td>12.0</td>\n",
       "      <td>73.0</td>\n",
       "      <td>750.0</td>\n",
       "      <td>0.077</td>\n",
       "      <td>0.104</td>\n",
       "    </tr>\n",
       "    <tr>\n",
       "      <td>6738</td>\n",
       "      <td>2020-04-18</td>\n",
       "      <td>Rwanda</td>\n",
       "      <td>-1.940</td>\n",
       "      <td>29.874</td>\n",
       "      <td>144</td>\n",
       "      <td>0</td>\n",
       "      <td>69</td>\n",
       "      <td>75</td>\n",
       "      <td>1.0</td>\n",
       "      <td>0.0</td>\n",
       "      <td>4.0</td>\n",
       "      <td>-3.0</td>\n",
       "      <td>-0.038</td>\n",
       "      <td>-0.029</td>\n",
       "    </tr>\n",
       "    <tr>\n",
       "      <td>4178</td>\n",
       "      <td>2020-02-05</td>\n",
       "      <td>Japan</td>\n",
       "      <td>36.000</td>\n",
       "      <td>138.000</td>\n",
       "      <td>22</td>\n",
       "      <td>0</td>\n",
       "      <td>1</td>\n",
       "      <td>21</td>\n",
       "      <td>0.0</td>\n",
       "      <td>0.0</td>\n",
       "      <td>0.0</td>\n",
       "      <td>0.0</td>\n",
       "      <td>0.000</td>\n",
       "      <td>0.034</td>\n",
       "    </tr>\n",
       "  </tbody>\n",
       "</table>\n",
       "</div>"
      ],
      "text/plain": [
       "            date   country     lat     long  confirmed  deaths  recovered  \\\n",
       "5074  2020-04-14  Malaysia   2.500  112.500       4987      82       2478   \n",
       "1645  2020-03-06     Chile -35.675  -71.543          4       0          0   \n",
       "3755  2020-04-15     India  21.000   78.000      12322     405       1432   \n",
       "6738  2020-04-18    Rwanda  -1.940   29.874        144       0         69   \n",
       "4178  2020-02-05     Japan  36.000  138.000         22       0          1   \n",
       "\n",
       "      active  confirmed_daily  deaths_daily  recovered_daily  \\\n",
       "5074    2427            170.0           5.0            202.0   \n",
       "1645       4              0.0           0.0              0.0   \n",
       "3755   10485            835.0          12.0             73.0   \n",
       "6738      75              1.0           0.0              4.0   \n",
       "4178      21              0.0           0.0              0.0   \n",
       "\n",
       "      daily_change_in_active_cases  active_dailiy_growth_rate  \\\n",
       "5074                         -37.0                     -0.015   \n",
       "1645                           0.0                      0.000   \n",
       "3755                         750.0                      0.077   \n",
       "6738                          -3.0                     -0.038   \n",
       "4178                           0.0                      0.000   \n",
       "\n",
       "      active_rolling_3_day_growth_rate  \n",
       "5074                            -0.005  \n",
       "1645                             0.587  \n",
       "3755                             0.104  \n",
       "6738                            -0.029  \n",
       "4178                             0.034  "
      ]
     },
     "execution_count": 8,
     "metadata": {},
     "output_type": "execute_result"
    }
   ],
   "source": [
    "# view 5 samples of the data\n",
    "global_view.sample(5)"
   ]
  },
  {
   "cell_type": "code",
   "execution_count": 9,
   "metadata": {
    "colab": {
     "base_uri": "https://localhost:8080/",
     "height": 252
    },
    "colab_type": "code",
    "executionInfo": {
     "elapsed": 1463,
     "status": "ok",
     "timestamp": 1587289322492,
     "user": {
      "displayName": "Allie Ubisse",
      "photoUrl": "https://lh3.googleusercontent.com/a-/AOh14GhmPb6uKQQcy033IYMuFkWGD0Ez0bxUujGYRtGj=s64",
      "userId": "15335281703903161970"
     },
     "user_tz": -120
    },
    "id": "Pe-E9CBsMSnA",
    "outputId": "0f2c0474-9f85-48ed-b85e-97077a6b1a34"
   },
   "outputs": [
    {
     "data": {
      "text/plain": [
       "['date',\n",
       " 'country',\n",
       " 'lat',\n",
       " 'long',\n",
       " 'confirmed',\n",
       " 'deaths',\n",
       " 'recovered',\n",
       " 'active',\n",
       " 'confirmed_daily',\n",
       " 'deaths_daily',\n",
       " 'recovered_daily',\n",
       " 'daily_change_in_active_cases',\n",
       " 'active_dailiy_growth_rate',\n",
       " 'active_rolling_3_day_growth_rate']"
      ]
     },
     "execution_count": 9,
     "metadata": {},
     "output_type": "execute_result"
    }
   ],
   "source": [
    "# understanding global view columns\n",
    "global_cols = global_view.columns.to_list()\n",
    "global_cols"
   ]
  },
  {
   "cell_type": "code",
   "execution_count": 10,
   "metadata": {
    "colab": {
     "base_uri": "https://localhost:8080/",
     "height": 370
    },
    "colab_type": "code",
    "executionInfo": {
     "elapsed": 1176,
     "status": "ok",
     "timestamp": 1587289330014,
     "user": {
      "displayName": "Allie Ubisse",
      "photoUrl": "https://lh3.googleusercontent.com/a-/AOh14GhmPb6uKQQcy033IYMuFkWGD0Ez0bxUujGYRtGj=s64",
      "userId": "15335281703903161970"
     },
     "user_tz": -120
    },
    "id": "9anmZwkEyzKf",
    "outputId": "4a2fba55-8255-471d-8fc8-88484bf166db"
   },
   "outputs": [
    {
     "name": "stdout",
     "output_type": "stream",
     "text": [
      "<class 'pandas.core.frame.DataFrame'>\n",
      "RangeIndex: 8903 entries, 0 to 8902\n",
      "Data columns (total 14 columns):\n",
      "date                                8903 non-null object\n",
      "country                             8903 non-null object\n",
      "lat                                 8903 non-null float64\n",
      "long                                8903 non-null float64\n",
      "confirmed                           8903 non-null int64\n",
      "deaths                              8903 non-null int64\n",
      "recovered                           8903 non-null int64\n",
      "active                              8903 non-null int64\n",
      "confirmed_daily                     8718 non-null float64\n",
      "deaths_daily                        8718 non-null float64\n",
      "recovered_daily                     8718 non-null float64\n",
      "daily_change_in_active_cases        8718 non-null float64\n",
      "active_dailiy_growth_rate           8517 non-null float64\n",
      "active_rolling_3_day_growth_rate    8148 non-null float64\n",
      "dtypes: float64(8), int64(4), object(2)\n",
      "memory usage: 973.9+ KB\n"
     ]
    }
   ],
   "source": [
    "# data types per Feature, Memeory size\n",
    "global_view.info()"
   ]
  },
  {
   "cell_type": "code",
   "execution_count": 11,
   "metadata": {
    "colab": {
     "base_uri": "https://localhost:8080/",
     "height": 269
    },
    "colab_type": "code",
    "executionInfo": {
     "elapsed": 2003,
     "status": "ok",
     "timestamp": 1587289342498,
     "user": {
      "displayName": "Allie Ubisse",
      "photoUrl": "https://lh3.googleusercontent.com/a-/AOh14GhmPb6uKQQcy033IYMuFkWGD0Ez0bxUujGYRtGj=s64",
      "userId": "15335281703903161970"
     },
     "user_tz": -120
    },
    "id": "-OiXmysZ6Mcb",
    "outputId": "b92cbfa0-9837-434e-ea1a-90209d207275"
   },
   "outputs": [
    {
     "data": {
      "text/plain": [
       "date                                0.000\n",
       "country                             0.000\n",
       "lat                                 0.000\n",
       "long                                0.000\n",
       "confirmed                           0.000\n",
       "deaths                              0.000\n",
       "recovered                           0.000\n",
       "active                              0.000\n",
       "confirmed_daily                     0.021\n",
       "deaths_daily                        0.021\n",
       "recovered_daily                     0.021\n",
       "daily_change_in_active_cases        0.021\n",
       "active_dailiy_growth_rate           0.043\n",
       "active_rolling_3_day_growth_rate    0.085\n",
       "dtype: float64"
      ]
     },
     "execution_count": 11,
     "metadata": {},
     "output_type": "execute_result"
    }
   ],
   "source": [
    "# get count for null values\n",
    "global_view.isnull().mean()"
   ]
  },
  {
   "cell_type": "markdown",
   "metadata": {
    "colab_type": "text",
    "id": "J1CvXFbKlEMc"
   },
   "source": [
    "**Notes 2** Missing Data:\n",
    "> We need to understand the Nature of missing values before we can drop the records or impute the values. \n",
    "\n",
    "> NB: Imputaion / droping records with missing values may yeild misleading results and may affect the interpretation of the pandemic outbreak. \n",
    "\n",
    "The following columns have more less **10%** missing values out of current loaded observations :\n",
    "* confirmed_daily                    \n",
    "* deaths_daily                   \n",
    "* recovered_daily                 \n",
    "* daily_change_in_active_cases     \n",
    "* active_dailiy_growth_rate       \n",
    "* active_rolling_3_day_growth_rate"
   ]
  },
  {
   "cell_type": "code",
   "execution_count": 12,
   "metadata": {
    "colab": {
     "base_uri": "https://localhost:8080/",
     "height": 304
    },
    "colab_type": "code",
    "executionInfo": {
     "elapsed": 1552,
     "status": "ok",
     "timestamp": 1587289441903,
     "user": {
      "displayName": "Allie Ubisse",
      "photoUrl": "https://lh3.googleusercontent.com/a-/AOh14GhmPb6uKQQcy033IYMuFkWGD0Ez0bxUujGYRtGj=s64",
      "userId": "15335281703903161970"
     },
     "user_tz": -120
    },
    "id": "Q-xY-hpcKI4_",
    "outputId": "f8561034-0de4-4eaf-e0ed-af0b939fe0a0"
   },
   "outputs": [
    {
     "data": {
      "text/html": [
       "<div>\n",
       "<style scoped>\n",
       "    .dataframe tbody tr th:only-of-type {\n",
       "        vertical-align: middle;\n",
       "    }\n",
       "\n",
       "    .dataframe tbody tr th {\n",
       "        vertical-align: top;\n",
       "    }\n",
       "\n",
       "    .dataframe thead th {\n",
       "        text-align: right;\n",
       "    }\n",
       "</style>\n",
       "<table border=\"1\" class=\"dataframe\">\n",
       "  <thead>\n",
       "    <tr style=\"text-align: right;\">\n",
       "      <th></th>\n",
       "      <th>confirmed</th>\n",
       "      <th>deaths</th>\n",
       "      <th>recovered</th>\n",
       "      <th>active</th>\n",
       "      <th>confirmed_daily</th>\n",
       "      <th>deaths_daily</th>\n",
       "      <th>recovered_daily</th>\n",
       "      <th>daily_change_in_active_cases</th>\n",
       "      <th>active_dailiy_growth_rate</th>\n",
       "      <th>active_rolling_3_day_growth_rate</th>\n",
       "    </tr>\n",
       "  </thead>\n",
       "  <tbody>\n",
       "    <tr>\n",
       "      <td>count</td>\n",
       "      <td>8903.000</td>\n",
       "      <td>8903.000</td>\n",
       "      <td>8903.000</td>\n",
       "      <td>8903.000</td>\n",
       "      <td>8718.000</td>\n",
       "      <td>8718.000</td>\n",
       "      <td>8718.000</td>\n",
       "      <td>8718.000</td>\n",
       "      <td>8517.000</td>\n",
       "      <td>8148.000</td>\n",
       "    </tr>\n",
       "    <tr>\n",
       "      <td>mean</td>\n",
       "      <td>5033.470</td>\n",
       "      <td>287.959</td>\n",
       "      <td>1245.491</td>\n",
       "      <td>3500.021</td>\n",
       "      <td>283.471</td>\n",
       "      <td>19.496</td>\n",
       "      <td>74.066</td>\n",
       "      <td>189.909</td>\n",
       "      <td>0.180</td>\n",
       "      <td>0.137</td>\n",
       "    </tr>\n",
       "    <tr>\n",
       "      <td>std</td>\n",
       "      <td>30288.755</td>\n",
       "      <td>1920.600</td>\n",
       "      <td>7515.722</td>\n",
       "      <td>24564.496</td>\n",
       "      <td>1744.333</td>\n",
       "      <td>132.177</td>\n",
       "      <td>438.011</td>\n",
       "      <td>1457.232</td>\n",
       "      <td>0.700</td>\n",
       "      <td>0.235</td>\n",
       "    </tr>\n",
       "    <tr>\n",
       "      <td>min</td>\n",
       "      <td>1.000</td>\n",
       "      <td>0.000</td>\n",
       "      <td>0.000</td>\n",
       "      <td>0.000</td>\n",
       "      <td>-9015.000</td>\n",
       "      <td>-31.000</td>\n",
       "      <td>-849.000</td>\n",
       "      <td>-10382.000</td>\n",
       "      <td>-1.000</td>\n",
       "      <td>-1.000</td>\n",
       "    </tr>\n",
       "    <tr>\n",
       "      <td>25%</td>\n",
       "      <td>9.000</td>\n",
       "      <td>0.000</td>\n",
       "      <td>0.000</td>\n",
       "      <td>7.000</td>\n",
       "      <td>0.000</td>\n",
       "      <td>0.000</td>\n",
       "      <td>0.000</td>\n",
       "      <td>0.000</td>\n",
       "      <td>0.000</td>\n",
       "      <td>0.004</td>\n",
       "    </tr>\n",
       "    <tr>\n",
       "      <td>50%</td>\n",
       "      <td>73.000</td>\n",
       "      <td>1.000</td>\n",
       "      <td>4.000</td>\n",
       "      <td>57.000</td>\n",
       "      <td>6.000</td>\n",
       "      <td>0.000</td>\n",
       "      <td>0.000</td>\n",
       "      <td>3.000</td>\n",
       "      <td>0.044</td>\n",
       "      <td>0.079</td>\n",
       "    </tr>\n",
       "    <tr>\n",
       "      <td>75%</td>\n",
       "      <td>706.000</td>\n",
       "      <td>11.000</td>\n",
       "      <td>55.000</td>\n",
       "      <td>606.000</td>\n",
       "      <td>54.000</td>\n",
       "      <td>1.000</td>\n",
       "      <td>4.000</td>\n",
       "      <td>34.000</td>\n",
       "      <td>0.167</td>\n",
       "      <td>0.197</td>\n",
       "    </tr>\n",
       "    <tr>\n",
       "      <td>max</td>\n",
       "      <td>784326.000</td>\n",
       "      <td>42094.000</td>\n",
       "      <td>91500.000</td>\n",
       "      <td>669903.000</td>\n",
       "      <td>35098.000</td>\n",
       "      <td>4591.000</td>\n",
       "      <td>10980.000</td>\n",
       "      <td>29957.000</td>\n",
       "      <td>37.000</td>\n",
       "      <td>2.733</td>\n",
       "    </tr>\n",
       "  </tbody>\n",
       "</table>\n",
       "</div>"
      ],
      "text/plain": [
       "        confirmed     deaths  recovered      active  confirmed_daily  \\\n",
       "count    8903.000   8903.000   8903.000    8903.000         8718.000   \n",
       "mean     5033.470    287.959   1245.491    3500.021          283.471   \n",
       "std     30288.755   1920.600   7515.722   24564.496         1744.333   \n",
       "min         1.000      0.000      0.000       0.000        -9015.000   \n",
       "25%         9.000      0.000      0.000       7.000            0.000   \n",
       "50%        73.000      1.000      4.000      57.000            6.000   \n",
       "75%       706.000     11.000     55.000     606.000           54.000   \n",
       "max    784326.000  42094.000  91500.000  669903.000        35098.000   \n",
       "\n",
       "       deaths_daily  recovered_daily  daily_change_in_active_cases  \\\n",
       "count      8718.000         8718.000                      8718.000   \n",
       "mean         19.496           74.066                       189.909   \n",
       "std         132.177          438.011                      1457.232   \n",
       "min         -31.000         -849.000                    -10382.000   \n",
       "25%           0.000            0.000                         0.000   \n",
       "50%           0.000            0.000                         3.000   \n",
       "75%           1.000            4.000                        34.000   \n",
       "max        4591.000        10980.000                     29957.000   \n",
       "\n",
       "       active_dailiy_growth_rate  active_rolling_3_day_growth_rate  \n",
       "count                   8517.000                          8148.000  \n",
       "mean                       0.180                             0.137  \n",
       "std                        0.700                             0.235  \n",
       "min                       -1.000                            -1.000  \n",
       "25%                        0.000                             0.004  \n",
       "50%                        0.044                             0.079  \n",
       "75%                        0.167                             0.197  \n",
       "max                       37.000                             2.733  "
      ]
     },
     "execution_count": 12,
     "metadata": {},
     "output_type": "execute_result"
    }
   ],
   "source": [
    "# Eliminate the Logitude and latitude the view the summary statistics\n",
    "global_view.drop(['lat','long'], axis=1).describe()"
   ]
  },
  {
   "cell_type": "markdown",
   "metadata": {
    "colab_type": "text",
    "id": "Z_kP6dniVQ6c"
   },
   "source": [
    "**Notes 3**\n",
    "> Understanding the **mean**, **std** and **MAx** for the following features/ Variables:\n",
    "- **confirmed**\n",
    "- **deaths** \t\n",
    "- **recovered**\n",
    "\n",
    "> **Ideal Scenario**\n",
    "* The **std** and **mean** for **confirmed** and **deaths** are expected  to have a very high variation, this will mean that the virus **preading-rate** and **death-rate** are droping(flaterning the  curve).\n",
    "* The **std** and **mean** for **Recovered** are expected to have a less to no variation and this will mean that more people are recovering at a short period of time.[[1]('')]\n",
    "\n",
    "\n"
   ]
  },
  {
   "cell_type": "code",
   "execution_count": 13,
   "metadata": {
    "colab": {
     "base_uri": "https://localhost:8080/",
     "height": 34
    },
    "colab_type": "code",
    "executionInfo": {
     "elapsed": 1033,
     "status": "ok",
     "timestamp": 1587292447398,
     "user": {
      "displayName": "Allie Ubisse",
      "photoUrl": "https://lh3.googleusercontent.com/a-/AOh14GhmPb6uKQQcy033IYMuFkWGD0Ez0bxUujGYRtGj=s64",
      "userId": "15335281703903161970"
     },
     "user_tz": -120
    },
    "id": "bYJrzTZN-RW4",
    "outputId": "2ef75b72-3021-4f5a-dcc5-9a4101130479"
   },
   "outputs": [
    {
     "data": {
      "text/plain": [
       "185"
      ]
     },
     "execution_count": 13,
     "metadata": {},
     "output_type": "execute_result"
    }
   ],
   "source": [
    "# get number of countries \n",
    "global_view['country'].nunique()"
   ]
  },
  {
   "cell_type": "markdown",
   "metadata": {
    "colab_type": "text",
    "id": "iFgx2IW1_LJs"
   },
   "source": [
    "**notes #**\n",
    "\n",
    "we got **185 countries**, this should be considered when ploting vs country.\n"
   ]
  },
  {
   "cell_type": "markdown",
   "metadata": {
    "colab_type": "text",
    "id": "RYnCI6NGwCcK"
   },
   "source": [
    "## **CasesLocalView**"
   ]
  },
  {
   "cell_type": "code",
   "execution_count": 14,
   "metadata": {
    "colab": {
     "base_uri": "https://localhost:8080/",
     "height": 50
    },
    "colab_type": "code",
    "executionInfo": {
     "elapsed": 2782,
     "status": "ok",
     "timestamp": 1587397821805,
     "user": {
      "displayName": "Allie Ubisse",
      "photoUrl": "https://lh3.googleusercontent.com/a-/AOh14GhmPb6uKQQcy033IYMuFkWGD0Ez0bxUujGYRtGj=s64",
      "userId": "15335281703903161970"
     },
     "user_tz": -120
    },
    "id": "O4H2GqO40-Qw",
    "outputId": "f24b23fb-eb52-4c73-ae79-aec2bbabc1c5"
   },
   "outputs": [
    {
     "name": "stdout",
     "output_type": "stream",
     "text": [
      "The local  Instances are : 455\n",
      "The local  Features are  : 6\n"
     ]
    }
   ],
   "source": [
    "# Dimension of the global_view data\n",
    "print(f'The local  Instances are : {local_view.shape[0]}')\n",
    "print(f'The local  Features are  : {local_view.shape[1]}')"
   ]
  },
  {
   "cell_type": "code",
   "execution_count": 15,
   "metadata": {
    "colab": {
     "base_uri": "https://localhost:8080/",
     "height": 195
    },
    "colab_type": "code",
    "executionInfo": {
     "elapsed": 2204,
     "status": "ok",
     "timestamp": 1587289666778,
     "user": {
      "displayName": "Allie Ubisse",
      "photoUrl": "https://lh3.googleusercontent.com/a-/AOh14GhmPb6uKQQcy033IYMuFkWGD0Ez0bxUujGYRtGj=s64",
      "userId": "15335281703903161970"
     },
     "user_tz": -120
    },
    "id": "zd6Bkz35wQUD",
    "outputId": "d9cd222d-4c94-40c8-d45f-689556871c14"
   },
   "outputs": [
    {
     "data": {
      "text/html": [
       "<div>\n",
       "<style scoped>\n",
       "    .dataframe tbody tr th:only-of-type {\n",
       "        vertical-align: middle;\n",
       "    }\n",
       "\n",
       "    .dataframe tbody tr th {\n",
       "        vertical-align: top;\n",
       "    }\n",
       "\n",
       "    .dataframe thead th {\n",
       "        text-align: right;\n",
       "    }\n",
       "</style>\n",
       "<table border=\"1\" class=\"dataframe\">\n",
       "  <thead>\n",
       "    <tr style=\"text-align: right;\">\n",
       "      <th></th>\n",
       "      <th>id</th>\n",
       "      <th>country_id</th>\n",
       "      <th>location</th>\n",
       "      <th>location_level</th>\n",
       "      <th>date</th>\n",
       "      <th>confirmed</th>\n",
       "    </tr>\n",
       "  </thead>\n",
       "  <tbody>\n",
       "    <tr>\n",
       "      <td>128</td>\n",
       "      <td>3</td>\n",
       "      <td>153</td>\n",
       "      <td>GP</td>\n",
       "      <td>Provincial</td>\n",
       "      <td>2020-04-18</td>\n",
       "      <td>1101</td>\n",
       "    </tr>\n",
       "    <tr>\n",
       "      <td>310</td>\n",
       "      <td>7</td>\n",
       "      <td>153</td>\n",
       "      <td>NC</td>\n",
       "      <td>Provincial</td>\n",
       "      <td>2020-04-20</td>\n",
       "      <td>18</td>\n",
       "    </tr>\n",
       "    <tr>\n",
       "      <td>425</td>\n",
       "      <td>10</td>\n",
       "      <td>153</td>\n",
       "      <td>UNKNOWN</td>\n",
       "      <td>Provincial</td>\n",
       "      <td>2020-03-30</td>\n",
       "      <td>96</td>\n",
       "    </tr>\n",
       "    <tr>\n",
       "      <td>74</td>\n",
       "      <td>2</td>\n",
       "      <td>153</td>\n",
       "      <td>FS</td>\n",
       "      <td>Provincial</td>\n",
       "      <td>2020-03-13</td>\n",
       "      <td>0</td>\n",
       "    </tr>\n",
       "    <tr>\n",
       "      <td>343</td>\n",
       "      <td>8</td>\n",
       "      <td>153</td>\n",
       "      <td>NW</td>\n",
       "      <td>Provincial</td>\n",
       "      <td>2020-03-12</td>\n",
       "      <td>0</td>\n",
       "    </tr>\n",
       "  </tbody>\n",
       "</table>\n",
       "</div>"
      ],
      "text/plain": [
       "     id  country_id location location_level        date  confirmed\n",
       "128   3         153       GP     Provincial  2020-04-18       1101\n",
       "310   7         153       NC     Provincial  2020-04-20         18\n",
       "425  10         153  UNKNOWN     Provincial  2020-03-30         96\n",
       "74    2         153       FS     Provincial  2020-03-13          0\n",
       "343   8         153       NW     Provincial  2020-03-12          0"
      ]
     },
     "execution_count": 15,
     "metadata": {},
     "output_type": "execute_result"
    }
   ],
   "source": [
    "# view 5 samples of the local view data\n",
    "local_view.sample(5)"
   ]
  },
  {
   "cell_type": "code",
   "execution_count": 16,
   "metadata": {
    "colab": {
     "base_uri": "https://localhost:8080/",
     "height": 235
    },
    "colab_type": "code",
    "executionInfo": {
     "elapsed": 1125,
     "status": "ok",
     "timestamp": 1587286253878,
     "user": {
      "displayName": "Allie Ubisse",
      "photoUrl": "https://lh3.googleusercontent.com/a-/AOh14GhmPb6uKQQcy033IYMuFkWGD0Ez0bxUujGYRtGj=s64",
      "userId": "15335281703903161970"
     },
     "user_tz": -120
    },
    "id": "4pW-Km8W4rs6",
    "outputId": "1a04086b-e7df-4f2b-e047-5b17c258113d"
   },
   "outputs": [
    {
     "name": "stdout",
     "output_type": "stream",
     "text": [
      "<class 'pandas.core.frame.DataFrame'>\n",
      "RangeIndex: 455 entries, 0 to 454\n",
      "Data columns (total 6 columns):\n",
      "id                455 non-null int64\n",
      "country_id        455 non-null int64\n",
      "location          455 non-null object\n",
      "location_level    455 non-null object\n",
      "date              455 non-null object\n",
      "confirmed         455 non-null int64\n",
      "dtypes: int64(3), object(3)\n",
      "memory usage: 21.5+ KB\n"
     ]
    }
   ],
   "source": [
    "# data types\n",
    "local_view.info()"
   ]
  },
  {
   "cell_type": "code",
   "execution_count": 17,
   "metadata": {
    "colab": {
     "base_uri": "https://localhost:8080/",
     "height": 134
    },
    "colab_type": "code",
    "executionInfo": {
     "elapsed": 1190,
     "status": "ok",
     "timestamp": 1587286266404,
     "user": {
      "displayName": "Allie Ubisse",
      "photoUrl": "https://lh3.googleusercontent.com/a-/AOh14GhmPb6uKQQcy033IYMuFkWGD0Ez0bxUujGYRtGj=s64",
      "userId": "15335281703903161970"
     },
     "user_tz": -120
    },
    "id": "dVBvTyYI8t2i",
    "outputId": "31265f6e-f8e8-406d-ef42-1c85e6e0c261"
   },
   "outputs": [
    {
     "data": {
      "text/plain": [
       "id                0.0\n",
       "country_id        0.0\n",
       "location          0.0\n",
       "location_level    0.0\n",
       "date              0.0\n",
       "confirmed         0.0\n",
       "dtype: float64"
      ]
     },
     "execution_count": 17,
     "metadata": {},
     "output_type": "execute_result"
    }
   ],
   "source": [
    "# get count for Missing Data\n",
    "local_view.isnull().mean()"
   ]
  },
  {
   "cell_type": "code",
   "execution_count": 18,
   "metadata": {
    "colab": {
     "base_uri": "https://localhost:8080/",
     "height": 284
    },
    "colab_type": "code",
    "executionInfo": {
     "elapsed": 1266,
     "status": "ok",
     "timestamp": 1587290137560,
     "user": {
      "displayName": "Allie Ubisse",
      "photoUrl": "https://lh3.googleusercontent.com/a-/AOh14GhmPb6uKQQcy033IYMuFkWGD0Ez0bxUujGYRtGj=s64",
      "userId": "15335281703903161970"
     },
     "user_tz": -120
    },
    "id": "F5uKmxO1nGUz",
    "outputId": "c4e44edd-7dde-4618-ae21-b0a9fc6f9d5c"
   },
   "outputs": [
    {
     "data": {
      "text/html": [
       "<div>\n",
       "<style scoped>\n",
       "    .dataframe tbody tr th:only-of-type {\n",
       "        vertical-align: middle;\n",
       "    }\n",
       "\n",
       "    .dataframe tbody tr th {\n",
       "        vertical-align: top;\n",
       "    }\n",
       "\n",
       "    .dataframe thead th {\n",
       "        text-align: right;\n",
       "    }\n",
       "</style>\n",
       "<table border=\"1\" class=\"dataframe\">\n",
       "  <thead>\n",
       "    <tr style=\"text-align: right;\">\n",
       "      <th></th>\n",
       "      <th>confirmed</th>\n",
       "    </tr>\n",
       "  </thead>\n",
       "  <tbody>\n",
       "    <tr>\n",
       "      <td>count</td>\n",
       "      <td>455.000</td>\n",
       "    </tr>\n",
       "    <tr>\n",
       "      <td>mean</td>\n",
       "      <td>110.662</td>\n",
       "    </tr>\n",
       "    <tr>\n",
       "      <td>std</td>\n",
       "      <td>224.037</td>\n",
       "    </tr>\n",
       "    <tr>\n",
       "      <td>min</td>\n",
       "      <td>0.000</td>\n",
       "    </tr>\n",
       "    <tr>\n",
       "      <td>25%</td>\n",
       "      <td>0.000</td>\n",
       "    </tr>\n",
       "    <tr>\n",
       "      <td>50%</td>\n",
       "      <td>15.000</td>\n",
       "    </tr>\n",
       "    <tr>\n",
       "      <td>75%</td>\n",
       "      <td>86.000</td>\n",
       "    </tr>\n",
       "    <tr>\n",
       "      <td>max</td>\n",
       "      <td>1170.000</td>\n",
       "    </tr>\n",
       "  </tbody>\n",
       "</table>\n",
       "</div>"
      ],
      "text/plain": [
       "       confirmed\n",
       "count    455.000\n",
       "mean     110.662\n",
       "std      224.037\n",
       "min        0.000\n",
       "25%        0.000\n",
       "50%       15.000\n",
       "75%       86.000\n",
       "max     1170.000"
      ]
     },
     "execution_count": 18,
     "metadata": {},
     "output_type": "execute_result"
    }
   ],
   "source": [
    "# Remove the id & country_id Features since they are not informative on the summary statistics\n",
    "local_view.drop(['id','country_id'], axis=1).describe()"
   ]
  },
  {
   "cell_type": "code",
   "execution_count": 19,
   "metadata": {
    "colab": {
     "base_uri": "https://localhost:8080/",
     "height": 218
    },
    "colab_type": "code",
    "executionInfo": {
     "elapsed": 1163,
     "status": "ok",
     "timestamp": 1587289986399,
     "user": {
      "displayName": "Allie Ubisse",
      "photoUrl": "https://lh3.googleusercontent.com/a-/AOh14GhmPb6uKQQcy033IYMuFkWGD0Ez0bxUujGYRtGj=s64",
      "userId": "15335281703903161970"
     },
     "user_tz": -120
    },
    "id": "k7dFLlEC5rAT",
    "outputId": "37c96362-8545-4d9e-d919-69d0827f923a"
   },
   "outputs": [
    {
     "data": {
      "text/plain": [
       "location\n",
       "EC         45\n",
       "FS         45\n",
       "GP         45\n",
       "KZN        45\n",
       "LP         45\n",
       "MP         45\n",
       "NC         45\n",
       "NW         45\n",
       "UNKNOWN    45\n",
       "WC         45\n",
       "source      5\n",
       "dtype: int64"
      ]
     },
     "execution_count": 19,
     "metadata": {},
     "output_type": "execute_result"
    }
   ],
   "source": [
    "# group by location and get the size \n",
    "local_view.groupby('location').size()"
   ]
  },
  {
   "cell_type": "markdown",
   "metadata": {
    "colab_type": "text",
    "id": "sQ1OqR9UwJ7g"
   },
   "source": [
    "## **CounterMeasureView**"
   ]
  },
  {
   "cell_type": "code",
   "execution_count": 20,
   "metadata": {
    "colab": {
     "base_uri": "https://localhost:8080/",
     "height": 50
    },
    "colab_type": "code",
    "executionInfo": {
     "elapsed": 2062,
     "status": "ok",
     "timestamp": 1587397809101,
     "user": {
      "displayName": "Allie Ubisse",
      "photoUrl": "https://lh3.googleusercontent.com/a-/AOh14GhmPb6uKQQcy033IYMuFkWGD0Ez0bxUujGYRtGj=s64",
      "userId": "15335281703903161970"
     },
     "user_tz": -120
    },
    "id": "_3KanPi0wQ-9",
    "outputId": "78fafab6-09e1-4b97-ae6f-2be66599cb01"
   },
   "outputs": [
    {
     "name": "stdout",
     "output_type": "stream",
     "text": [
      "The Counter Measure  Instances are : 27390\n",
      "The Counter Measure  Features are  : 4\n"
     ]
    }
   ],
   "source": [
    "# Dimension of the global_view data\n",
    "print(f'The Counter Measure  Instances are : {counterMeasure_view.shape[0]}')\n",
    "print(f'The Counter Measure  Features are  : {counterMeasure_view.shape[1]}')\n"
   ]
  },
  {
   "cell_type": "code",
   "execution_count": 21,
   "metadata": {
    "colab": {
     "base_uri": "https://localhost:8080/",
     "height": 195
    },
    "colab_type": "code",
    "executionInfo": {
     "elapsed": 1804,
     "status": "ok",
     "timestamp": 1587290586103,
     "user": {
      "displayName": "Allie Ubisse",
      "photoUrl": "https://lh3.googleusercontent.com/a-/AOh14GhmPb6uKQQcy033IYMuFkWGD0Ez0bxUujGYRtGj=s64",
      "userId": "15335281703903161970"
     },
     "user_tz": -120
    },
    "id": "u10adCtT4fD2",
    "outputId": "5eb15d3a-6052-4faa-bd72-5368dccc0da3"
   },
   "outputs": [
    {
     "data": {
      "text/html": [
       "<div>\n",
       "<style scoped>\n",
       "    .dataframe tbody tr th:only-of-type {\n",
       "        vertical-align: middle;\n",
       "    }\n",
       "\n",
       "    .dataframe tbody tr th {\n",
       "        vertical-align: top;\n",
       "    }\n",
       "\n",
       "    .dataframe thead th {\n",
       "        text-align: right;\n",
       "    }\n",
       "</style>\n",
       "<table border=\"1\" class=\"dataframe\">\n",
       "  <thead>\n",
       "    <tr style=\"text-align: right;\">\n",
       "      <th></th>\n",
       "      <th>date</th>\n",
       "      <th>country</th>\n",
       "      <th>measure</th>\n",
       "      <th>value</th>\n",
       "    </tr>\n",
       "  </thead>\n",
       "  <tbody>\n",
       "    <tr>\n",
       "      <td>13862</td>\n",
       "      <td>2020-01-24</td>\n",
       "      <td>Japan</td>\n",
       "      <td>Healthcare specialisation</td>\n",
       "      <td>0.0</td>\n",
       "    </tr>\n",
       "    <tr>\n",
       "      <td>8905</td>\n",
       "      <td>2020-03-29</td>\n",
       "      <td>Germany</td>\n",
       "      <td>Asymptomatic isolation - blanket</td>\n",
       "      <td>2.0</td>\n",
       "    </tr>\n",
       "    <tr>\n",
       "      <td>12823</td>\n",
       "      <td>2020-03-29</td>\n",
       "      <td>Italy</td>\n",
       "      <td>Asymptomatic isolation - blanket</td>\n",
       "      <td>3.0</td>\n",
       "    </tr>\n",
       "    <tr>\n",
       "      <td>22380</td>\n",
       "      <td>2020-02-05</td>\n",
       "      <td>South Africa</td>\n",
       "      <td>Public education and incentives</td>\n",
       "      <td>0.0</td>\n",
       "    </tr>\n",
       "    <tr>\n",
       "      <td>14102</td>\n",
       "      <td>2020-02-21</td>\n",
       "      <td>Japan</td>\n",
       "      <td>Testing</td>\n",
       "      <td>2404.0</td>\n",
       "    </tr>\n",
       "  </tbody>\n",
       "</table>\n",
       "</div>"
      ],
      "text/plain": [
       "             date       country                           measure   value\n",
       "13862  2020-01-24         Japan         Healthcare specialisation     0.0\n",
       "8905   2020-03-29       Germany  Asymptomatic isolation - blanket     2.0\n",
       "12823  2020-03-29         Italy  Asymptomatic isolation - blanket     3.0\n",
       "22380  2020-02-05  South Africa   Public education and incentives     0.0\n",
       "14102  2020-02-21         Japan                           Testing  2404.0"
      ]
     },
     "execution_count": 21,
     "metadata": {},
     "output_type": "execute_result"
    }
   ],
   "source": [
    "# view 5 samples of the Counter Measure View data\n",
    "counterMeasure_view.sample(5)"
   ]
  },
  {
   "cell_type": "code",
   "execution_count": 22,
   "metadata": {
    "colab": {
     "base_uri": "https://localhost:8080/",
     "height": 202
    },
    "colab_type": "code",
    "executionInfo": {
     "elapsed": 1594,
     "status": "ok",
     "timestamp": 1587290639863,
     "user": {
      "displayName": "Allie Ubisse",
      "photoUrl": "https://lh3.googleusercontent.com/a-/AOh14GhmPb6uKQQcy033IYMuFkWGD0Ez0bxUujGYRtGj=s64",
      "userId": "15335281703903161970"
     },
     "user_tz": -120
    },
    "id": "bYSIL7TM5FIm",
    "outputId": "a0c20c6e-753e-41a9-dcde-970b8d7a1ef8"
   },
   "outputs": [
    {
     "name": "stdout",
     "output_type": "stream",
     "text": [
      "<class 'pandas.core.frame.DataFrame'>\n",
      "RangeIndex: 27390 entries, 0 to 27389\n",
      "Data columns (total 4 columns):\n",
      "date       27390 non-null object\n",
      "country    27390 non-null object\n",
      "measure    27390 non-null object\n",
      "value      27390 non-null float64\n",
      "dtypes: float64(1), object(3)\n",
      "memory usage: 856.1+ KB\n"
     ]
    }
   ],
   "source": [
    "# data type per  Feature and memory size\n",
    "counterMeasure_view.info()"
   ]
  },
  {
   "cell_type": "code",
   "execution_count": 23,
   "metadata": {
    "colab": {
     "base_uri": "https://localhost:8080/",
     "height": 101
    },
    "colab_type": "code",
    "executionInfo": {
     "elapsed": 2329,
     "status": "ok",
     "timestamp": 1587291558869,
     "user": {
      "displayName": "Allie Ubisse",
      "photoUrl": "https://lh3.googleusercontent.com/a-/AOh14GhmPb6uKQQcy033IYMuFkWGD0Ez0bxUujGYRtGj=s64",
      "userId": "15335281703903161970"
     },
     "user_tz": -120
    },
    "id": "AshhxFe-8fio",
    "outputId": "9c7d16b7-8fc3-4c39-adde-37b331d4b15c"
   },
   "outputs": [
    {
     "data": {
      "text/plain": [
       "date       0.0\n",
       "country    0.0\n",
       "measure    0.0\n",
       "value      0.0\n",
       "dtype: float64"
      ]
     },
     "execution_count": 23,
     "metadata": {},
     "output_type": "execute_result"
    }
   ],
   "source": [
    "# cheget the % of missing values\n",
    "counterMeasure_view.isnull().mean()"
   ]
  },
  {
   "cell_type": "code",
   "execution_count": 24,
   "metadata": {
    "colab": {
     "base_uri": "https://localhost:8080/",
     "height": 284
    },
    "colab_type": "code",
    "executionInfo": {
     "elapsed": 1237,
     "status": "ok",
     "timestamp": 1587291608374,
     "user": {
      "displayName": "Allie Ubisse",
      "photoUrl": "https://lh3.googleusercontent.com/a-/AOh14GhmPb6uKQQcy033IYMuFkWGD0Ez0bxUujGYRtGj=s64",
      "userId": "15335281703903161970"
     },
     "user_tz": -120
    },
    "id": "M9RMLnhF81SD",
    "outputId": "55e40f4b-bf74-4c91-beb0-d6b23bd09fdd"
   },
   "outputs": [
    {
     "data": {
      "text/html": [
       "<div>\n",
       "<style scoped>\n",
       "    .dataframe tbody tr th:only-of-type {\n",
       "        vertical-align: middle;\n",
       "    }\n",
       "\n",
       "    .dataframe tbody tr th {\n",
       "        vertical-align: top;\n",
       "    }\n",
       "\n",
       "    .dataframe thead th {\n",
       "        text-align: right;\n",
       "    }\n",
       "</style>\n",
       "<table border=\"1\" class=\"dataframe\">\n",
       "  <thead>\n",
       "    <tr style=\"text-align: right;\">\n",
       "      <th></th>\n",
       "      <th>value</th>\n",
       "    </tr>\n",
       "  </thead>\n",
       "  <tbody>\n",
       "    <tr>\n",
       "      <td>count</td>\n",
       "      <td>27390.000</td>\n",
       "    </tr>\n",
       "    <tr>\n",
       "      <td>mean</td>\n",
       "      <td>1251.294</td>\n",
       "    </tr>\n",
       "    <tr>\n",
       "      <td>std</td>\n",
       "      <td>15497.751</td>\n",
       "    </tr>\n",
       "    <tr>\n",
       "      <td>min</td>\n",
       "      <td>0.000</td>\n",
       "    </tr>\n",
       "    <tr>\n",
       "      <td>25%</td>\n",
       "      <td>0.000</td>\n",
       "    </tr>\n",
       "    <tr>\n",
       "      <td>50%</td>\n",
       "      <td>0.000</td>\n",
       "    </tr>\n",
       "    <tr>\n",
       "      <td>75%</td>\n",
       "      <td>0.000</td>\n",
       "    </tr>\n",
       "    <tr>\n",
       "      <td>max</td>\n",
       "      <td>320000.000</td>\n",
       "    </tr>\n",
       "  </tbody>\n",
       "</table>\n",
       "</div>"
      ],
      "text/plain": [
       "            value\n",
       "count   27390.000\n",
       "mean     1251.294\n",
       "std     15497.751\n",
       "min         0.000\n",
       "25%         0.000\n",
       "50%         0.000\n",
       "75%         0.000\n",
       "max    320000.000"
      ]
     },
     "execution_count": 24,
     "metadata": {},
     "output_type": "execute_result"
    }
   ],
   "source": [
    "# Summary statisctics\n",
    "counterMeasure_view.describe()"
   ]
  },
  {
   "cell_type": "code",
   "execution_count": 25,
   "metadata": {
    "colab": {
     "base_uri": "https://localhost:8080/",
     "height": 34
    },
    "colab_type": "code",
    "executionInfo": {
     "elapsed": 950,
     "status": "ok",
     "timestamp": 1587292473017,
     "user": {
      "displayName": "Allie Ubisse",
      "photoUrl": "https://lh3.googleusercontent.com/a-/AOh14GhmPb6uKQQcy033IYMuFkWGD0Ez0bxUujGYRtGj=s64",
      "userId": "15335281703903161970"
     },
     "user_tz": -120
    },
    "id": "8VQGBDJ0_uRK",
    "outputId": "57b8145c-f5d6-419f-fa73-cdd9824b4400"
   },
   "outputs": [
    {
     "data": {
      "text/plain": [
       "23"
      ]
     },
     "execution_count": 25,
     "metadata": {},
     "output_type": "execute_result"
    }
   ],
   "source": [
    "# investigate the number of measures\n",
    "counterMeasure_view['measure'].nunique()"
   ]
  },
  {
   "cell_type": "markdown",
   "metadata": {
    "colab_type": "text",
    "id": "sAk2m_66AR_H"
   },
   "source": [
    "**Notes #**\n",
    "\n",
    "we got **23 measures**,So need to be careful when using scatter plots and not cluster by measures."
   ]
  },
  {
   "cell_type": "markdown",
   "metadata": {
    "colab_type": "text",
    "id": "jicX9CRwRQ3M"
   },
   "source": [
    "## **Symptoms Data**"
   ]
  },
  {
   "cell_type": "code",
   "execution_count": 26,
   "metadata": {
    "colab": {
     "base_uri": "https://localhost:8080/",
     "height": 50
    },
    "colab_type": "code",
    "executionInfo": {
     "elapsed": 4262,
     "status": "ok",
     "timestamp": 1587397919826,
     "user": {
      "displayName": "Allie Ubisse",
      "photoUrl": "https://lh3.googleusercontent.com/a-/AOh14GhmPb6uKQQcy033IYMuFkWGD0Ez0bxUujGYRtGj=s64",
      "userId": "15335281703903161970"
     },
     "user_tz": -120
    },
    "id": "h51YTKKlSQTa",
    "outputId": "f5929892-860d-46d6-8eeb-0c9aa302e4de"
   },
   "outputs": [
    {
     "name": "stdout",
     "output_type": "stream",
     "text": [
      "The Symptoms  Instances are : 6\n",
      "The Symptoms Features are  : 2\n"
     ]
    }
   ],
   "source": [
    "# Dimension of the symptoms_df data\n",
    "print(f'The Symptoms  Instances are : {symptoms_df.shape[0]}')\n",
    "print(f'The Symptoms Features are  : {symptoms_df.shape[1]}')"
   ]
  },
  {
   "cell_type": "code",
   "execution_count": 27,
   "metadata": {
    "colab": {
     "base_uri": "https://localhost:8080/",
     "height": 225
    },
    "colab_type": "code",
    "executionInfo": {
     "elapsed": 3891,
     "status": "ok",
     "timestamp": 1587397936815,
     "user": {
      "displayName": "Allie Ubisse",
      "photoUrl": "https://lh3.googleusercontent.com/a-/AOh14GhmPb6uKQQcy033IYMuFkWGD0Ez0bxUujGYRtGj=s64",
      "userId": "15335281703903161970"
     },
     "user_tz": -120
    },
    "id": "hBB5WSGLRaQu",
    "outputId": "4c784b88-5b82-4f3a-bc21-e351f51a7a41"
   },
   "outputs": [
    {
     "data": {
      "text/html": [
       "<div>\n",
       "<style scoped>\n",
       "    .dataframe tbody tr th:only-of-type {\n",
       "        vertical-align: middle;\n",
       "    }\n",
       "\n",
       "    .dataframe tbody tr th {\n",
       "        vertical-align: top;\n",
       "    }\n",
       "\n",
       "    .dataframe thead th {\n",
       "        text-align: right;\n",
       "    }\n",
       "</style>\n",
       "<table border=\"1\" class=\"dataframe\">\n",
       "  <thead>\n",
       "    <tr style=\"text-align: right;\">\n",
       "      <th></th>\n",
       "      <th>symptoms</th>\n",
       "      <th>covid19_percentage</th>\n",
       "    </tr>\n",
       "  </thead>\n",
       "  <tbody>\n",
       "    <tr>\n",
       "      <td>0</td>\n",
       "      <td>Fever</td>\n",
       "      <td>87.9%[69]</td>\n",
       "    </tr>\n",
       "    <tr>\n",
       "      <td>1</td>\n",
       "      <td>Dry cough</td>\n",
       "      <td>67.7%[69]</td>\n",
       "    </tr>\n",
       "    <tr>\n",
       "      <td>2</td>\n",
       "      <td>Dyspnea</td>\n",
       "      <td>18.6%[69]</td>\n",
       "    </tr>\n",
       "    <tr>\n",
       "      <td>3</td>\n",
       "      <td>Diarrhea</td>\n",
       "      <td>3.7%[69]</td>\n",
       "    </tr>\n",
       "    <tr>\n",
       "      <td>4</td>\n",
       "      <td>Sore throat</td>\n",
       "      <td>13.9%[69]</td>\n",
       "    </tr>\n",
       "    <tr>\n",
       "      <td>5</td>\n",
       "      <td>Ventilatory use</td>\n",
       "      <td>4.1%[71]</td>\n",
       "    </tr>\n",
       "  </tbody>\n",
       "</table>\n",
       "</div>"
      ],
      "text/plain": [
       "          symptoms covid19_percentage\n",
       "0            Fever          87.9%[69]\n",
       "1        Dry cough          67.7%[69]\n",
       "2          Dyspnea          18.6%[69]\n",
       "3         Diarrhea           3.7%[69]\n",
       "4      Sore throat          13.9%[69]\n",
       "5  Ventilatory use           4.1%[71]"
      ]
     },
     "execution_count": 27,
     "metadata": {},
     "output_type": "execute_result"
    }
   ],
   "source": [
    "# view data samples\n",
    "symptoms_df"
   ]
  },
  {
   "cell_type": "markdown",
   "metadata": {
    "colab_type": "text",
    "id": "Isw58XhxSmnq"
   },
   "source": [
    "clean up the % and extra numbers"
   ]
  },
  {
   "cell_type": "code",
   "execution_count": 28,
   "metadata": {
    "colab": {
     "base_uri": "https://localhost:8080/",
     "height": 168
    },
    "colab_type": "code",
    "executionInfo": {
     "elapsed": 1838,
     "status": "ok",
     "timestamp": 1587397743792,
     "user": {
      "displayName": "Allie Ubisse",
      "photoUrl": "https://lh3.googleusercontent.com/a-/AOh14GhmPb6uKQQcy033IYMuFkWGD0Ez0bxUujGYRtGj=s64",
      "userId": "15335281703903161970"
     },
     "user_tz": -120
    },
    "id": "LeUOeLxgRogn",
    "outputId": "8c5fbff4-d5fc-41df-90bd-c16b4160c2ea"
   },
   "outputs": [
    {
     "name": "stdout",
     "output_type": "stream",
     "text": [
      "<class 'pandas.core.frame.DataFrame'>\n",
      "RangeIndex: 6 entries, 0 to 5\n",
      "Data columns (total 2 columns):\n",
      "symptoms              6 non-null object\n",
      "covid19_percentage    6 non-null object\n",
      "dtypes: object(2)\n",
      "memory usage: 224.0+ bytes\n"
     ]
    }
   ],
   "source": [
    "# data types \n",
    "symptoms_df.info()"
   ]
  },
  {
   "cell_type": "markdown",
   "metadata": {
    "colab_type": "text",
    "id": "dvrItH93Sxp6"
   },
   "source": [
    "cast **percentage** to be a float not object"
   ]
  },
  {
   "cell_type": "markdown",
   "metadata": {
    "colab_type": "text",
    "id": "DcvRQ8ksuXT9"
   },
   "source": [
    "# **Data Preprocessing**\n",
    "\n",
    "\n",
    "*   Cast the DATATYPES to reduce memory usage\n",
    "*   Create pipeline To clean the Data\n",
    "*   Pass all the data Stream through the pipeline\n",
    "\n"
   ]
  },
  {
   "cell_type": "markdown",
   "metadata": {
    "colab_type": "text",
    "id": "G2r0yATfPUj6"
   },
   "source": [
    " ## **LOGIC**\n",
    "---\n",
    "custorm Functions to preprocess all the data "
   ]
  },
  {
   "cell_type": "code",
   "execution_count": 29,
   "metadata": {
    "colab": {},
    "colab_type": "code",
    "id": "cjdw3D6OUEkc"
   },
   "outputs": [],
   "source": [
    "def preprocess_symptoms_df(df):\n",
    "\n",
    "    # preprocening the dataframe\n",
    "    df.replace(regex=['%\\[69]', '%\\[71]'], value='', inplace=True)\n",
    "    \n",
    "    # cast object to float and reduce memory usage\n",
    "    df.covid19_percentage = df.covid19_percentage.astype('float')\n",
    "\n",
    "    return df"
   ]
  },
  {
   "cell_type": "markdown",
   "metadata": {
    "colab_type": "text",
    "id": "puQNd8MYP720"
   },
   "source": [
    "## **PREPROCESING** \n",
    "---\n",
    "\n",
    "\n"
   ]
  },
  {
   "cell_type": "code",
   "execution_count": 32,
   "metadata": {
    "colab": {},
    "colab_type": "code",
    "id": "OOjKECnhUD4d"
   },
   "outputs": [
    {
     "data": {
      "text/html": [
       "<div>\n",
       "<style scoped>\n",
       "    .dataframe tbody tr th:only-of-type {\n",
       "        vertical-align: middle;\n",
       "    }\n",
       "\n",
       "    .dataframe tbody tr th {\n",
       "        vertical-align: top;\n",
       "    }\n",
       "\n",
       "    .dataframe thead th {\n",
       "        text-align: right;\n",
       "    }\n",
       "</style>\n",
       "<table border=\"1\" class=\"dataframe\">\n",
       "  <thead>\n",
       "    <tr style=\"text-align: right;\">\n",
       "      <th></th>\n",
       "      <th>symptoms</th>\n",
       "      <th>covid19_percentage</th>\n",
       "    </tr>\n",
       "  </thead>\n",
       "  <tbody>\n",
       "    <tr>\n",
       "      <td>0</td>\n",
       "      <td>Fever</td>\n",
       "      <td>87.9</td>\n",
       "    </tr>\n",
       "    <tr>\n",
       "      <td>1</td>\n",
       "      <td>Dry cough</td>\n",
       "      <td>67.7</td>\n",
       "    </tr>\n",
       "    <tr>\n",
       "      <td>2</td>\n",
       "      <td>Dyspnea</td>\n",
       "      <td>18.6</td>\n",
       "    </tr>\n",
       "    <tr>\n",
       "      <td>3</td>\n",
       "      <td>Diarrhea</td>\n",
       "      <td>3.7</td>\n",
       "    </tr>\n",
       "    <tr>\n",
       "      <td>4</td>\n",
       "      <td>Sore throat</td>\n",
       "      <td>13.9</td>\n",
       "    </tr>\n",
       "    <tr>\n",
       "      <td>5</td>\n",
       "      <td>Ventilatory use</td>\n",
       "      <td>4.1</td>\n",
       "    </tr>\n",
       "  </tbody>\n",
       "</table>\n",
       "</div>"
      ],
      "text/plain": [
       "          symptoms  covid19_percentage\n",
       "0            Fever                87.9\n",
       "1        Dry cough                67.7\n",
       "2          Dyspnea                18.6\n",
       "3         Diarrhea                 3.7\n",
       "4      Sore throat                13.9\n",
       "5  Ventilatory use                 4.1"
      ]
     },
     "execution_count": 32,
     "metadata": {},
     "output_type": "execute_result"
    }
   ],
   "source": [
    "symptoms_df = preprocess_symptoms_df(symptoms_df)\n",
    "symptoms_df"
   ]
  },
  {
   "cell_type": "code",
   "execution_count": 36,
   "metadata": {},
   "outputs": [
    {
     "data": {
      "text/plain": [
       "<matplotlib.axes._subplots.AxesSubplot at 0x18099ed5708>"
      ]
     },
     "execution_count": 36,
     "metadata": {},
     "output_type": "execute_result"
    },
    {
     "data": {
      "image/png": "[encoded data removed]",
      "text/plain": [
       "<Figure size 432x288 with 1 Axes>"
      ]
     },
     "metadata": {
      "needs_background": "light"
     },
     "output_type": "display_data"
    }
   ],
   "source": [
    "## plotting the symptoms VS covid19_percentage\n",
    "sns.barplot(x=symptoms_df['symptoms'],y=symptoms_df['covid19_percentage']);"
   ]
  },
  {
   "cell_type": "markdown",
   "metadata": {
    "colab_type": "text",
    "id": "Y62bFB7Fus3i"
   },
   "source": [
    "# **Visualizations**\n",
    "\n",
    "*Lets plan the charts so as to better group them based on the information then convey.*\n",
    "\n",
    "---\n",
    "**Groups of Plots:**\n",
    "1.   Summary plots e.g pie charts\n",
    "2.   Trends plots (Time series)\n",
    "2.   Distribution plots\n",
    "3.   Relationship plots\n",
    "---\n",
    "\n",
    "1.  **Trends:**\n",
    "- **investigate by date of report** (chart Type = ?) time series\n",
    "    - Total deaths, recovered and confirmed vs date of report\n",
    "    - daily deaths, recovered and confirmed vs date of report\n",
    "---\n",
    "2.   **Distribution plots:**\n",
    "- **investigate by country**\n",
    "     - deaths vs country\n",
    "     - recovered vs country\n",
    "     - confirmed vs country\n",
    "- **investigate by province**\n",
    "\n",
    "- **investigate by measures**\n",
    "\n",
    " ---\n",
    "\n",
    "\n",
    "\n",
    "\n",
    "\n"
   ]
  },
  {
   "cell_type": "code",
   "execution_count": 0,
   "metadata": {
    "colab": {},
    "colab_type": "code",
    "id": "5BGlhO_nL60U"
   },
   "outputs": [],
   "source": []
  },
  {
   "cell_type": "markdown",
   "metadata": {
    "colab_type": "text",
    "id": "4ItbwCdLPuDI"
   },
   "source": [
    "# **Future Tasks**\n",
    "\n",
    "- creating a PipeLine Api to pull all the data to our open source covid 19 data repo.\n",
    "\n",
    "- creating dynamic visuals (power Bi/ Data Studio/ tablue)\n",
    "- hosting them on the internet\n",
    "- creating ML and DL models to continuesly train and predict the trend of covid 19\n",
    "- perform batch and online training for our model.\n",
    "- plot and publish the model results and its logs. \n",
    "- Automating the pipeline API for CI and CD life cycle.\n",
    "- contribute to UCI data portal or any other portal\n",
    "- Helping people Study the data easy\n",
    "\n",
    "### You're Welcome to Join Our GitHub Community.\n"
   ]
  },
  {
   "cell_type": "markdown",
   "metadata": {
    "colab_type": "text",
    "id": "vBsFo8Kphi2Y"
   },
   "source": [
    "# **Credits & Sources**\n",
    "*We would like to Acknowledge the sources listed below for data, Inpiration and domain knowledge.* \n",
    "\n",
    "---\n",
    "### **Data Sources** with data updates time\n",
    "1. \n",
    "\n",
    "---\n",
    "### **Blogs**\n",
    "1. [The National Center for Health Statistics]('https://nces.ed.gov/') \n",
    "\n",
    "\n",
    "---\n",
    "### **Books**\n",
    " \n",
    " 1. books here.\n",
    "\n",
    "---\n",
    "### **Research papers**\n",
    "\n",
    "1. papers here.\n",
    "---"
   ]
  },
  {
   "cell_type": "markdown",
   "metadata": {
    "colab_type": "text",
    "id": "meLmHISfOhlk"
   },
   "source": [
    "# THANK YOU\n",
    "Please post any questions on our github project by creating an **issue** and if you found this project informative, give us a **star** and **follow** our ***github organization & profiles***.\n",
    "\n",
    "![hire me meme](data:image/jpeg;base64,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)\n",
    "---"
   ]
  }
 ],
 "metadata": {
  "colab": {
   "collapsed_sections": [],
   "name": "A2_insights_Lab_Covid19_EDA_v01.ipynb",
   "provenance": [
    {
     "file_id": "https://github.com/A2-insights/Covid19-Data-Insights/blob/master/notebooks/A2_insights_Lab_Covid19_EDA.ipynb",
     "timestamp": 1587278737539
    }
   ],
   "toc_visible": true
  },
  "kernelspec": {
   "display_name": "Python 3",
   "language": "python",
   "name": "python3"
  },
  "language_info": {
   "codemirror_mode": {
    "name": "ipython",
    "version": 3
   },
   "file_extension": ".py",
   "mimetype": "text/x-python",
   "name": "python",
   "nbconvert_exporter": "python",
   "pygments_lexer": "ipython3",
   "version": "3.7.4"
  }
 },
 "nbformat": 4,
 "nbformat_minor": 1
}
